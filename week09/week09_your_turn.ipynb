{
 "cells": [
  {
   "cell_type": "raw",
   "id": "0be60558",
   "metadata": {},
   "source": [
    "---\n",
    "title: 【課題】Rでのグラフ作成の基礎\n",
    "format: html\n",
    "keep-ipynb: true\n",
    "eval: false\n",
    "echo: true\n",
    "---"
   ]
  },
  {
   "cell_type": "markdown",
   "id": "f802af04",
   "metadata": {},
   "source": [
    "::: {.callout-important}\n",
    "\n",
    "以下の2つの問題について、Rコードを記述してください。\n",
    "\n",
    ":::\n",
    "\n",
    "\n",
    "## 問題: 動物データ（df_aniaml）を用いて、体長と体重の散布図を描画せよ\n"
   ]
  },
  {
   "cell_type": "code",
   "execution_count": 1,
   "id": "3c8558cf",
   "metadata": {},
   "outputs": [],
   "source": [
    "#| label: 動物データの読み込み\n",
    "df_animal <-\n",
    "  readr::read_csv(\"https://raw.githubusercontent.com/uribo/tokupon_ds/main/data-raw/tokushima_zoo_animals22.csv\", col_types = \"ccdd\")"
   ]
  },
  {
   "cell_type": "code",
   "execution_count": 2,
   "id": "be6cdc4c",
   "metadata": {},
   "outputs": [],
   "source": [
    "head(df_animal)"
   ]
  },
  {
   "cell_type": "markdown",
   "id": "1852bb35",
   "metadata": {},
   "source": [
    "- 動物データは `df_animal` としてデータフレーム形式で保存されている。\n",
    "- 体長は`body_length_cm`、体重は`weight_kg`として変数に記録されている。\n",
    "- 散布図はx軸に`body_length_cm`、y軸に`weight_kg`を与えること。\n"
   ]
  },
  {
   "cell_type": "code",
   "execution_count": 3,
   "id": "95bc408c",
   "metadata": {},
   "outputs": [],
   "source": [
    "# コードを記述してセルを実行"
   ]
  },
  {
   "cell_type": "markdown",
   "id": "6e485628",
   "metadata": {},
   "source": [
    "## 問題: 2009年から2020年の四国4県の人口の時系列での推移を適切な方法で可視化せよ。塗り分け、凡例の表示等により、グラフ上のデータがどの県を示すかわかるようにすること。\n"
   ]
  },
  {
   "cell_type": "code",
   "execution_count": 4,
   "id": "4596f832",
   "metadata": {},
   "outputs": [],
   "source": [
    "#| eval: false\n",
    "#| echo: true\n",
    "install.packages(\"zipangu\")\n",
    "install.packages(\"ssdse\", \n",
    "                 repos = c(\"https://uribo.r-universe.dev\", \"https://cloud.r-project.org\"))"
   ]
  },
  {
   "cell_type": "code",
   "execution_count": 5,
   "id": "SSDSE",
   "metadata": {},
   "outputs": [],
   "source": [
    "#| label: SSDSEデータの読み込み\n",
    "df_ssdse_b_shikoku <- \n",
    "  ssdse::read_ssdse_b(\"https://www.nstac.go.jp/sys/files/SSDSE-B-2023.csv\", \n",
    "                      lang = \"ja\",\n",
    "                      pack = FALSE) |>\n",
    "  dplyr::filter(`都道府県` %in% c(\"徳島県\", \"香川県\", \"愛媛県\", \"高知県\")) |> \n",
    "  dplyr::select(year = `SSDSE.B.2023`, \n",
    "                prefecture = `都道府県`,\n",
    "                population = `人口・世帯_総人口`) |> \n",
    "  dplyr::mutate(prefecture = zipangu::convert_prefecture(prefecture, to = \"roman\"))\n",
    "\n",
    "head(df_ssdse_b_shikoku, n = 3)"
   ]
  },
  {
   "cell_type": "code",
   "execution_count": 6,
   "id": "0534466b",
   "metadata": {},
   "outputs": [],
   "source": [
    "# コードを記述してセルを実行"
   ]
  }
 ],
 "metadata": {
  "jupytext": {
   "formats": "ipynb,qmd",
   "text_representation": {
    "extension": ".qmd",
    "format_name": "quarto",
    "format_version": "1.0",
    "jupytext_version": "1.14.5"
   }
  },
  "kernelspec": {
   "display_name": "R",
   "language": "R",
   "name": "ir"
  },
  "language_info": {
   "codemirror_mode": "r",
   "file_extension": ".r",
   "mimetype": "text/x-r-source",
   "name": "R",
   "pygments_lexer": "r",
   "version": "4.3.2"
  }
 },
 "nbformat": 4,
 "nbformat_minor": 5
}
