{
 "cells": [
  {
   "cell_type": "markdown",
   "metadata": {},
   "source": [
    "::: {.callout-important}\n",
    "\n",
    "以下の2つの問題について、回答結果をセルに記述してください。なお必要に応じてRコードも示してください。\n",
    "\n",
    ":::\n",
    "\n",
    "\n",
    "## 問題: 動物データに対して要約統計量を求める関数を適用し、体長の中央値、体重の（不偏）標準偏差を求めよ"
   ]
  },
  {
   "cell_type": "code",
   "execution_count": null,
   "metadata": {},
   "outputs": [],
   "source": [
    "#| label: 動物データの読み込み\n",
    "df_animal <-\n",
    "  readr::read_csv(\"https://raw.githubusercontent.com/uribo/tokupon_ds/main/data-raw/tokushima_zoo_animals22.csv\", col_types = \"ccdd\")"
   ]
  },
  {
   "cell_type": "code",
   "execution_count": null,
   "metadata": {},
   "outputs": [],
   "source": [
    "head(df_animal)"
   ]
  },
  {
   "cell_type": "markdown",
   "metadata": {},
   "source": [
    "- 動物データは `df_animal` としてデータフレーム形式で保存されている。\n",
    "- 体長は`body_length_cm`、体重は`weight_kg`として変数に記録されている。\n",
    "\n",
    "Rで要約統計量を求める関数は`summary()`である。数値からなる変数については最小値や最大値、中央値、平均値などの情報が得られる。\n",
    "また`summary()`で得られない標準偏差などの要約統計量についても個別に求める関数がRには用意されている。"
   ]
  },
  {
   "cell_type": "code",
   "execution_count": null,
   "metadata": {},
   "outputs": [],
   "source": [
    "# コードを記述して実行"
   ]
  },
  {
   "cell_type": "markdown",
   "metadata": {},
   "source": [
    "## 問題: データの特徴\n",
    "\n",
    "データをその特性に応じて分類すると、量的データ（量的変数）と質的データ（質的変数）に分けられます 。これらのデータの種類はさらに、尺度水準という観点から、名義尺度、順序尺度、間隔尺度、比例尺度に分類されます 。次に示す５種類のデ\n",
    "ータについて、順序尺度であるものを1つ選んでください。\n",
    "\n",
    "回答のみを残し、他の選択肢については削除またはコメントアウト（行頭に`#`を追加）してください。\n",
    "\n",
    "```\n",
    "1. あるクラスの学生の試験の点数（例 10点、8点、5点、6点、8点）\n",
    "2. 星座の並び (牡羊座3月から魚座2月までの月並び)\n",
    "3. 講義への理解度（例 よくわかった、ある程度わかった、半分くらいはわかった、あまりわからなかった、全然わからなかった）\n",
    "4. 血液型（例 A型、B型、O型、AB型）\n",
    "5. 8月の日最高気温（例 30.2℃、33.6℃、29.8℃、29.1℃、30.1℃）\n",
    "```"
   ]
  }
 ],
 "metadata": {
  "jupytext": {
   "formats": "ipynb,qmd",
   "text_representation": {
    "extension": ".qmd",
    "format_name": "quarto",
    "format_version": "1.0",
    "jupytext_version": "1.14.5"
   }
  },
  "kernelspec": {
   "display_name": "R",
   "language": "R",
   "name": "ir"
  }
 },
 "nbformat": 4,
 "nbformat_minor": 4
}
