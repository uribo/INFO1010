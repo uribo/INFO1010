{
 "cells": [
  {
   "cell_type": "raw",
   "id": "8210ab97",
   "metadata": {},
   "source": [
    "---\n",
    "title: データの可視化\n",
    "keep-ipynb: true\n",
    "eval: false\n",
    "echo: true\n",
    "---"
   ]
  },
  {
   "cell_type": "markdown",
   "id": "cd83a225",
   "metadata": {},
   "source": [
    "## パッケージのインストールと読み込み\n"
   ]
  },
  {
   "cell_type": "code",
   "execution_count": 1,
   "id": "6dbf69be",
   "metadata": {},
   "outputs": [],
   "source": [
    "#| label: このファイルで利用する不足パッケージのインストール\n",
    "#| eval: false\n",
    "#| echo: true\n",
    "install.packages(c(\"datasauRus\", \"ggbeeswarm\", \"gghighlight\", \n",
    "                   \"ggrepel\", \"palmerpenguins\", \"patchwork\",\n",
    "                   \"zipangu\"))\n",
    "install.packages(\"ssdse\", \n",
    "                 repos = c(\"https://uribo.r-universe.dev\", \"https://cloud.r-project.org\"))"
   ]
  },
  {
   "cell_type": "code",
   "execution_count": 2,
   "id": "ea27bc24",
   "metadata": {},
   "outputs": [],
   "source": [
    "library(dplyr, warn.conflicts = FALSE)\n",
    "library(ggplot2)\n",
    "library(patchwork) # 複数のグラフの配置調整\n",
    "library(datasauRus)\n",
    "library(ggbeeswarm) # 蜂群図\n",
    "library(gghighlight) # グラフの一部をハイライト\n",
    "library(ggrepel) # ラベル表示 (geom_text_repel, geom_label_repel)\n",
    "library(palmerpenguins)\n",
    "library(zipangu)\n",
    "data(penguins)"
   ]
  },
  {
   "cell_type": "code",
   "execution_count": 3,
   "id": "a21b1725",
   "metadata": {},
   "outputs": [],
   "source": [
    "# データフレームから四国4県のデータを抽出しやすくする関数を定義する\n",
    "filter_shikoku <- function(data, var = prefecture) {\n",
    "  data |>\n",
    "    dplyr::filter({{ var }} %in% c(\"Tokushima-ken\", \"Kagawa-ken\", \"Ehime-ken\", \"Kochi-ken\")) |> \n",
    "    dplyr::mutate({{ var }} := forcats::fct_relevel({{ var }}, \"Tokushima-ken\", \"Kagawa-ken\", \"Ehime-ken\", \"Kochi-ken\"))\n",
    "}"
   ]
  },
  {
   "cell_type": "markdown",
   "id": "502c93c0",
   "metadata": {},
   "source": [
    "## データ可視化の重要性\n",
    "\n",
    "### アンスコムの例\n"
   ]
  },
  {
   "cell_type": "code",
   "execution_count": 4,
   "id": "56d1733c",
   "metadata": {},
   "outputs": [],
   "source": [
    "anscombe\n",
    "\n",
    "anscombe_long <-\n",
    "  anscombe |>\n",
    "  tidyr::pivot_longer(\n",
    "    tidyselect::everything(),\n",
    "    names_to = c(\".value\", \"set\"),\n",
    "    names_pattern = \"(.)(.)\")\n",
    "\n",
    "anscombe_long |>\n",
    "  group_by(set) |>\n",
    "  group_map(\n",
    "    ~ ggplot(.x, aes(x, y)) +\n",
    "      geom_point() +\n",
    "      geom_smooth(method = lm, se = FALSE)) |>\n",
    "  wrap_plots(ncol = 4)"
   ]
  },
  {
   "cell_type": "markdown",
   "id": "356fffcc",
   "metadata": {},
   "source": [
    "::: {.callout-tip}\n",
    "\n",
    "アンスコムザウルス\n"
   ]
  },
  {
   "cell_type": "code",
   "execution_count": 5,
   "id": "5d346017",
   "metadata": {},
   "outputs": [],
   "source": [
    "datasaurus_dozen |>\n",
    "  filter(dataset == \"dino\") |>\n",
    "  ggplot(aes(x = x, y = y)) +\n",
    "  geom_point()\n",
    "\n",
    "datasaurus_dozen |>\n",
    "  filter(dataset != \"dino\") |>\n",
    "  ggplot(aes(x = x, y = y, colour = dataset)) +\n",
    "  geom_point() +\n",
    "  theme(legend.position = \"none\") +\n",
    "  facet_wrap(~dataset, nrow = 2)"
   ]
  },
  {
   "cell_type": "markdown",
   "id": "7800218c",
   "metadata": {},
   "source": [
    ":::\n",
    "\n",
    "## ggplot2によるグラフ作成\n",
    "\n",
    "::: {.callout-warning}\n",
    "\n",
    "情報センターJupyterHubではRの作図中に日本語を利用すると文字化けします。対策を検討中...。\n",
    "\n",
    ":::\n"
   ]
  },
  {
   "cell_type": "code",
   "execution_count": 6,
   "id": "step1-",
   "metadata": {},
   "outputs": [],
   "source": [
    "#| label: step1 データの指定\n",
    "#| eval: false\n",
    "#| echo: true\n",
    "# ペンギンデータを利用\n",
    "ggplot(data = penguins)"
   ]
  },
  {
   "cell_type": "code",
   "execution_count": 7,
   "id": "step2",
   "metadata": {},
   "outputs": [],
   "source": [
    "#| label: step2　審美的要素とデータの紐付け\n",
    "#| eval: false\n",
    "#| echo: true\n",
    "ggplot(data = penguins) +\n",
    "  # x軸、y軸に対応するデータを指定\n",
    "  aes(x = flipper_length_mm, \n",
    "        y = bill_length_mm)"
   ]
  },
  {
   "cell_type": "code",
   "execution_count": 8,
   "id": "step3-",
   "metadata": {},
   "outputs": [],
   "source": [
    "#| label: step3 ジオメトリレイヤを選択\n",
    "#| eval: false\n",
    "#| echo: true\n",
    "ggplot(data = penguins) +\n",
    "  aes(x = flipper_length_mm, \n",
    "        y = bill_length_mm) +\n",
    "  # 散布図として描画\n",
    "  geom_point()"
   ]
  },
  {
   "cell_type": "code",
   "execution_count": 9,
   "id": "step4-",
   "metadata": {},
   "outputs": [],
   "source": [
    "#| label: step4 審美的要素とデータの紐付け\n",
    "#| eval: false\n",
    "#| echo: true\n",
    "ggplot(data = penguins) +\n",
    "  aes(x = flipper_length_mm, \n",
    "        y = bill_length_mm,\n",
    "        # speciesでの散布図の塗り分け\n",
    "        color = species) +\n",
    "  geom_point()"
   ]
  },
  {
   "cell_type": "markdown",
   "id": "f0c973cd",
   "metadata": {},
   "source": [
    "## 多様なグラフ表現\n",
    "\n",
    "独立行政法人統計センターによる様々な分野の都道府県別・時系列データを集めたデータセット（[SSDSE-県別推移](https://www.nstac.go.jp/use/literacy/ssdse/#SSDSE-B)）を利用します。\n"
   ]
  },
  {
   "cell_type": "code",
   "execution_count": 10,
   "id": "2a944339",
   "metadata": {},
   "outputs": [],
   "source": [
    "# いくつかの列のみ抽出\n",
    "df_ssdse_b <- \n",
    "  ssdse::read_ssdse_b(\"https://www.nstac.go.jp/sys/files/SSDSE-B-2023.csv\", \n",
    "                      lang = \"ja\",\n",
    "                      pack = FALSE) |>\n",
    "  select(`SSDSE.B.2023`, `都道府県`, \n",
    "         `人口・世帯_総人口`, \n",
    "         `人口・世帯_出生数（男）`, \n",
    "         `人口・世帯_出生数（女）`,\n",
    "         `教育_大学学生数`, \n",
    "         `家計_消費支出（二人以上の世帯）`,\n",
    "         `家計_食料費（二人以上の世帯）`) |> \n",
    "  rename_with(~ c(\"year\", \"prefecture\", \n",
    "                  \"population\", \"birth_male\", \"birth_female\",\n",
    "                  \"university_student\", \"spending\", \"food_expenses\")) |>\n",
    "  mutate(prefecture = zipangu::convert_prefecture(prefecture, to = \"roman\"))\n",
    "\n",
    "df_ssdse_b2020 <- \n",
    "  df_ssdse_b |> \n",
    "  filter(year == 2020)"
   ]
  },
  {
   "cell_type": "code",
   "execution_count": 11,
   "id": "79fad79c",
   "metadata": {},
   "outputs": [],
   "source": [
    "# データの確認\n",
    "glimpse(df_ssdse_b)"
   ]
  },
  {
   "cell_type": "markdown",
   "id": "1a645277",
   "metadata": {},
   "source": [
    "### 棒グラフ\n"
   ]
  },
  {
   "cell_type": "code",
   "execution_count": 12,
   "id": "3aeb5c4e",
   "metadata": {},
   "outputs": [],
   "source": [
    "df_ssdse_b2020 |>\n",
    "  ggplot() +\n",
    "  aes(prefecture, population) +\n",
    "  geom_bar(stat = \"identity\")"
   ]
  },
  {
   "cell_type": "code",
   "execution_count": 13,
   "id": "1510b0ee",
   "metadata": {},
   "outputs": [],
   "source": [
    "df_ssdse_b2020 |>\n",
    "  ggplot() +\n",
    "  aes(prefecture, population) +\n",
    "  geom_bar(stat = \"identity\") +\n",
    "  # 棒を縦に並べる\n",
    "  coord_flip()"
   ]
  },
  {
   "cell_type": "code",
   "execution_count": 14,
   "id": "d551475c",
   "metadata": {},
   "outputs": [],
   "source": [
    "df_ssdse_b2020 |>\n",
    "  # おおよその緯度の順番に配置する\n",
    "  mutate(prefecture = forcats::fct_rev(forcats::fct_inorder(prefecture))) |>\n",
    "  ggplot() +\n",
    "  aes(prefecture, population) +\n",
    "  geom_bar(stat = \"identity\") +\n",
    "  coord_flip()"
   ]
  },
  {
   "cell_type": "markdown",
   "id": "f7ce1e5d",
   "metadata": {},
   "source": [
    "### 散布図\n",
    "\n",
    "散布図は、2変数間の関係を表現するために用いられるグラフです。例えば、体長と体重の関係を表現することで、体長が大きい動物は体重も大きい傾向にあることがわかります。\n"
   ]
  },
  {
   "cell_type": "code",
   "execution_count": 15,
   "id": "8a1ff004",
   "metadata": {},
   "outputs": [],
   "source": [
    "p <- \n",
    "  df_ssdse_b2020 |>\n",
    "  ggplot() +\n",
    "  aes(food_expenses, spending) +\n",
    "  geom_point()"
   ]
  },
  {
   "cell_type": "code",
   "execution_count": 16,
   "id": "cceb31f3",
   "metadata": {},
   "outputs": [],
   "source": [
    "# 都道府県名を表示\n",
    "p +\n",
    "  geom_text_repel(aes(label = prefecture))"
   ]
  },
  {
   "cell_type": "code",
   "execution_count": 17,
   "id": "2d38da9c",
   "metadata": {},
   "outputs": [],
   "source": [
    "# 四国4県のポイントをハイライト\n",
    "p  +\n",
    "  geom_text(data = df_ssdse_b2020 |> \n",
    "                    filter_shikoku(), \n",
    "                  aes(label = prefecture)) +\n",
    "  gghighlight(prefecture %in% c(\"Tokushima-ken\", \"Kagawa-ken\", \"Ehime-ken\", \"Kochi-ken\"))"
   ]
  },
  {
   "cell_type": "markdown",
   "id": "e68cad0b",
   "metadata": {},
   "source": [
    "### 折れ線グラフ\n"
   ]
  },
  {
   "cell_type": "code",
   "execution_count": 18,
   "id": "5136ad0a",
   "metadata": {},
   "outputs": [],
   "source": [
    "p <- \n",
    "  df_ssdse_b |>\n",
    "  filter_shikoku() |>\n",
    "  ggplot() +\n",
    "  aes(year, population, group = prefecture, color = prefecture) +\n",
    "  geom_line()"
   ]
  },
  {
   "cell_type": "code",
   "execution_count": 19,
   "id": "a2f637fb",
   "metadata": {},
   "outputs": [],
   "source": [
    "# 任意の色指定\n",
    "# x軸の表記を変更\n",
    "p +\n",
    "  scale_color_manual(\n",
    "    values = c(`Tokushima-ken` = \"#953F56\", \n",
    "               `Ehime-ken` = \"#0F1347\", \n",
    "               `Kagawa-ken` = \"#77835E\", \n",
    "               `Kochi-ken` = \"#BC974E\")) +\n",
    "  scale_x_continuous(\n",
    "    breaks = seq.int(2008, 2020, by = 2))"
   ]
  },
  {
   "cell_type": "markdown",
   "id": "8ee97338",
   "metadata": {},
   "source": [
    "### 箱ひげ図\n",
    "\n",
    "箱ひげ図は、データの分布（最小値、中央値を含めた四分位点、最大値）を表現するために用いられるグラフです。動物の分類群など、離散値のデータを可視化することで分類群での比較が可能となります。\n"
   ]
  },
  {
   "cell_type": "code",
   "execution_count": 20,
   "id": "cd465e04",
   "metadata": {},
   "outputs": [],
   "source": [
    "p_core <- \n",
    "  df_ssdse_b |>\n",
    "  filter_shikoku() |>\n",
    "  ggplot() +\n",
    "  aes(prefecture, spending)"
   ]
  },
  {
   "cell_type": "code",
   "execution_count": 21,
   "id": "2c851220",
   "metadata": {},
   "outputs": [],
   "source": [
    "p_core +\n",
    "  geom_boxplot()"
   ]
  },
  {
   "cell_type": "markdown",
   "id": "6c2b4702",
   "metadata": {},
   "source": [
    "バイオリンプロット ... 具体的なデータの分布を確認\n"
   ]
  },
  {
   "cell_type": "code",
   "execution_count": 22,
   "id": "8d504271",
   "metadata": {},
   "outputs": [],
   "source": [
    "p_core + \n",
    "  geom_violin()"
   ]
  },
  {
   "cell_type": "code",
   "execution_count": 23,
   "id": "d330a2c8",
   "metadata": {},
   "outputs": [],
   "source": [
    "# ggbeeswarmパッケージによる蜂群図\n",
    "p_core +\n",
    "  geom_beeswarm()"
   ]
  },
  {
   "cell_type": "markdown",
   "id": "e393af65",
   "metadata": {},
   "source": [
    "### ヒストグラム\n"
   ]
  },
  {
   "cell_type": "code",
   "execution_count": 24,
   "id": "a72d4830",
   "metadata": {},
   "outputs": [],
   "source": [
    "df_ssdse_b2020 |>\n",
    "  ggplot() +\n",
    "  aes(x = spending) +\n",
    "  geom_histogram(bins = 10)"
   ]
  },
  {
   "cell_type": "code",
   "execution_count": 25,
   "id": "a413fcf4",
   "metadata": {},
   "outputs": [],
   "source": [
    "df_ssdse_b |>\n",
    "  filter_shikoku() |>\n",
    "  filter(between(year, 2015, 2020)) |>\n",
    "  ggplot() +\n",
    "  aes(prefecture, population) +\n",
    "  geom_bar(stat = \"identity\",\n",
    "           aes(group = year, fill = year),\n",
    "           position = \"dodge\") +\n",
    "  scale_fill_viridis_c() +\n",
    "  coord_flip()"
   ]
  },
  {
   "cell_type": "markdown",
   "id": "339aa5c6",
   "metadata": {},
   "source": [
    "### 座標系\n"
   ]
  },
  {
   "cell_type": "code",
   "execution_count": 26,
   "id": "86f0257a",
   "metadata": {},
   "outputs": [],
   "source": [
    "p <-\n",
    "  ggplot(data = penguins) +\n",
    "  aes(x = flipper_length_mm,\n",
    "      y = bill_length_mm) +\n",
    "  geom_point()\n",
    "\n",
    "p +\n",
    "  coord_fixed(ratio = 1)\n",
    "p +\n",
    "  coord_flip()"
   ]
  },
  {
   "cell_type": "code",
   "execution_count": 27,
   "id": "32c79922",
   "metadata": {},
   "outputs": [],
   "source": [
    "p <-\n",
    "  df_ssdse_b2020 |>\n",
    "  filter_shikoku() |>\n",
    "  ggplot() +\n",
    "  aes(x = 1, population, fill = prefecture) +\n",
    "  geom_bar(stat = \"identity\") +\n",
    "  scale_fill_manual(values = c(`Tokushima-ken` = \"#953F56\", \n",
    "               `Ehime-ken` = \"#0F1347\", \n",
    "               `Kagawa-ken` = \"#77835E\", \n",
    "               `Kochi-ken` = \"#BC974E\"))"
   ]
  },
  {
   "cell_type": "code",
   "execution_count": 28,
   "id": "a6b2ed89",
   "metadata": {},
   "outputs": [],
   "source": [
    "p"
   ]
  },
  {
   "cell_type": "code",
   "execution_count": 29,
   "id": "8071eaaf",
   "metadata": {},
   "outputs": [],
   "source": [
    "p +\n",
    "  coord_polar(theta = \"y\", start = 0)"
   ]
  },
  {
   "cell_type": "markdown",
   "id": "483de9cb",
   "metadata": {},
   "source": [
    "### スケール\n"
   ]
  },
  {
   "cell_type": "code",
   "execution_count": 30,
   "id": "956c629d",
   "metadata": {},
   "outputs": [],
   "source": [
    "df_ssdse_b |>\n",
    "  filter_shikoku() |>\n",
    "  ggplot() +\n",
    "  aes(year, population,\n",
    "      group = prefecture,\n",
    "      color = prefecture) +\n",
    "  geom_line() +\n",
    "  scale_x_continuous(\n",
    "    breaks = seq.int(2008, 2019, by = 2)) +\n",
    "  scale_y_log10() +\n",
    "  scale_color_viridis_d()"
   ]
  },
  {
   "cell_type": "markdown",
   "id": "6ae922dd",
   "metadata": {},
   "source": [
    "### その他\n"
   ]
  },
  {
   "cell_type": "code",
   "execution_count": 31,
   "id": "beba486f",
   "metadata": {},
   "outputs": [],
   "source": [
    "df_ssdse_b |>\n",
    "  ggplot(aes(year, university_student, color = prefecture)) +\n",
    "  geom_line()"
   ]
  },
  {
   "cell_type": "code",
   "execution_count": 32,
   "id": "f8444e0d",
   "metadata": {},
   "outputs": [],
   "source": [
    "# 人口1万人あたり\n",
    "df_ssdse_b |>\n",
    "  mutate(university_student_per10000 = (university_student / population) * 10000) |>\n",
    "  ggplot(aes(year, university_student_per10000, color = prefecture)) +\n",
    "  geom_line(show.legend = FALSE) +\n",
    "  scale_y_log10() +\n",
    "  gghighlight(prefecture == \"Tokushima-ken\")"
   ]
  },
  {
   "cell_type": "markdown",
   "id": "67c519a6",
   "metadata": {},
   "source": [
    "可視化したい項目に応じてデータを整える\n"
   ]
  },
  {
   "cell_type": "code",
   "execution_count": 33,
   "id": "775f1728",
   "metadata": {},
   "outputs": [],
   "source": [
    "df_ssdse_b_pop <-\n",
    "  df_ssdse_b |> \n",
    "  filter_shikoku() |> \n",
    "    select(year, prefecture, starts_with(\"birth_\")) |> \n",
    "    tidyr::pivot_longer(cols = starts_with(\"birth_\"),\n",
    "                        names_to = \"gender\",\n",
    "                        values_to = \"population\",\n",
    "                        names_prefix = \"birth_\")\n",
    "\n",
    "head(df_ssdse_b_pop, n = 3)"
   ]
  },
  {
   "cell_type": "code",
   "execution_count": 34,
   "id": "46b9b481",
   "metadata": {},
   "outputs": [],
   "source": [
    "# facet\n",
    "df_ssdse_b_pop |>  \n",
    "  ggplot() +\n",
    "  aes(year, population) +\n",
    "  geom_line(aes(group = prefecture, color = prefecture)) +\n",
    "  facet_wrap(~ gender,\n",
    "             ncol = 2)"
   ]
  },
  {
   "cell_type": "markdown",
   "id": "066875de",
   "metadata": {},
   "source": [
    "## データ可視化のテクニックと注意点\n"
   ]
  },
  {
   "cell_type": "code",
   "execution_count": 35,
   "id": "69f96b02",
   "metadata": {},
   "outputs": [],
   "source": [
    "ggplot(penguins) +\n",
    "  aes(x = body_mass_g, y = bill_length_mm) +\n",
    "  geom_point()\n",
    "\n",
    "ggplot(penguins) +\n",
    "  aes(bill_length_mm, flipper_length_mm) +\n",
    "  geom_point(aes(color = species)) +\n",
    "  geom_smooth(aes(group = species), method = \"lm\", se = FALSE)"
   ]
  }
 ],
 "metadata": {
  "jupytext": {
   "formats": "ipynb,qmd",
   "text_representation": {
    "extension": ".qmd",
    "format_name": "quarto",
    "format_version": "1.0",
    "jupytext_version": "1.14.5"
   }
  },
  "kernelspec": {
   "display_name": "R",
   "language": "R",
   "name": "ir"
  },
  "language_info": {
   "codemirror_mode": "r",
   "file_extension": ".r",
   "mimetype": "text/x-r-source",
   "name": "R",
   "pygments_lexer": "r",
   "version": "4.3.2"
  }
 },
 "nbformat": 4,
 "nbformat_minor": 5
}
