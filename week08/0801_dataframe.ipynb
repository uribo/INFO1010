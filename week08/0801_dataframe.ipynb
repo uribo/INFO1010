{
 "cells": [
  {
   "cell_type": "raw",
   "id": "a44067e1",
   "metadata": {},
   "source": [
    "---\n",
    "title: データ処理の手法\n",
    "keep-ipynb: true\n",
    "lang: ja\n",
    "---"
   ]
  },
  {
   "cell_type": "markdown",
   "id": "d1f7c01b",
   "metadata": {},
   "source": [
    "データサイエンスはあらゆる種類のデータを処理・分析し、そこから有益な価値を生み出すことを目的としています。そのためデータの種類や表現方法について理解しておくことは、データサイエンスの基礎を理解する上で重要です。データの種類は数値や文字だけでしょうか。この章ではデータの種類と表現方法について学びます。\n",
    "\n",
    "## ベクトル\n",
    "\n",
    "`c()`関数を作ってベクトルオブジェクトを生成します。ベクトルには複数の要素を含めることができ、カンマ`,`で要素を区切って記述します。\n"
   ]
  },
  {
   "cell_type": "code",
   "execution_count": 1,
   "id": "a24e7642",
   "metadata": {},
   "outputs": [
    {
     "data": {
      "text/html": [
       "<style>\n",
       ".list-inline {list-style: none; margin:0; padding: 0}\n",
       ".list-inline>li {display: inline-block}\n",
       ".list-inline>li:not(:last-child)::after {content: \"\\00b7\"; padding: 0 .5ex}\n",
       "</style>\n",
       "<ol class=list-inline><li>6</li><li>3.5</li><li>5.4</li></ol>\n"
      ],
      "text/latex": [
       "\\begin{enumerate*}\n",
       "\\item 6\n",
       "\\item 3.5\n",
       "\\item 5.4\n",
       "\\end{enumerate*}\n"
      ],
      "text/markdown": [
       "1. 6\n",
       "2. 3.5\n",
       "3. 5.4\n",
       "\n",
       "\n"
      ],
      "text/plain": [
       "[1] 6.0 3.5 5.4"
      ]
     },
     "metadata": {},
     "output_type": "display_data"
    },
    {
     "data": {
      "text/html": [
       "<style>\n",
       ".list-inline {list-style: none; margin:0; padding: 0}\n",
       ".list-inline>li {display: inline-block}\n",
       ".list-inline>li:not(:last-child)::after {content: \"\\00b7\"; padding: 0 .5ex}\n",
       "</style>\n",
       "<ol class=list-inline><li>320</li><li>615</li><li>1023</li></ol>\n"
      ],
      "text/latex": [
       "\\begin{enumerate*}\n",
       "\\item 320\n",
       "\\item 615\n",
       "\\item 1023\n",
       "\\end{enumerate*}\n"
      ],
      "text/markdown": [
       "1. 320\n",
       "2. 615\n",
       "3. 1023\n",
       "\n",
       "\n"
      ],
      "text/plain": [
       "[1]  320  615 1023"
      ]
     },
     "metadata": {},
     "output_type": "display_data"
    }
   ],
   "source": [
    "# 動物の体重\n",
    "x <- c(6, 3.5, 5.4)\n",
    "x\n",
    "\n",
    "# 動物園の来園者数\n",
    "c(320, 615, 1023)"
   ]
  },
  {
   "cell_type": "markdown",
   "id": "c8a8e348",
   "metadata": {},
   "source": [
    "動物の分類群のベクトルを作成しましょう。\n"
   ]
  },
  {
   "cell_type": "code",
   "execution_count": 2,
   "id": "f7e6dd73",
   "metadata": {},
   "outputs": [],
   "source": [
    "#| eval: false\n",
    "# 動物の分類群\n",
    "c()"
   ]
  },
  {
   "cell_type": "markdown",
   "id": "6f9411ea",
   "metadata": {},
   "source": [
    "ベクトルの要素を取り出すには、`[]`演算子を使います。`[]`の中には、取り出したい要素の位置を指定します。Rでは要素を数える際の番号は1から始まります。また`:`演算子を使ってベクトルの要素の範囲を指定することも可能です。\n"
   ]
  },
  {
   "cell_type": "code",
   "execution_count": 3,
   "id": "079a5b81",
   "metadata": {},
   "outputs": [
    {
     "data": {
      "text/html": [
       "6"
      ],
      "text/latex": [
       "6"
      ],
      "text/markdown": [
       "6"
      ],
      "text/plain": [
       "[1] 6"
      ]
     },
     "metadata": {},
     "output_type": "display_data"
    },
    {
     "data": {
      "text/html": [
       "<style>\n",
       ".list-inline {list-style: none; margin:0; padding: 0}\n",
       ".list-inline>li {display: inline-block}\n",
       ".list-inline>li:not(:last-child)::after {content: \"\\00b7\"; padding: 0 .5ex}\n",
       "</style>\n",
       "<ol class=list-inline><li>3.5</li><li>5.4</li></ol>\n"
      ],
      "text/latex": [
       "\\begin{enumerate*}\n",
       "\\item 3.5\n",
       "\\item 5.4\n",
       "\\end{enumerate*}\n"
      ],
      "text/markdown": [
       "1. 3.5\n",
       "2. 5.4\n",
       "\n",
       "\n"
      ],
      "text/plain": [
       "[1] 3.5 5.4"
      ]
     },
     "metadata": {},
     "output_type": "display_data"
    }
   ],
   "source": [
    "x[1] # 最初の要素を取り出す\n",
    "\n",
    "x[2:3] # 2から3番目の要素を取り出す"
   ]
  },
  {
   "cell_type": "markdown",
   "id": "dcc08d8a",
   "metadata": {},
   "source": [
    "では、次のコードを実行するとどうなるでしょうか。コードを実行する前に出力結果を予想してみましょう。\n"
   ]
  },
  {
   "cell_type": "code",
   "execution_count": 4,
   "id": "d71c46b2",
   "metadata": {},
   "outputs": [],
   "source": [
    "#| eval: false\n",
    "x[-2]"
   ]
  },
  {
   "cell_type": "markdown",
   "id": "f6aadd6d",
   "metadata": {},
   "source": [
    "`c()`関数の性質として、ベクトルの要素に異なるデータ型を与えた場合、ベクトルの要素は全て同じデータ型に変換されます。例えば、数値と文字列を混在させると全ての要素が文字列に変換されます。\n"
   ]
  },
  {
   "cell_type": "code",
   "execution_count": 5,
   "id": "e127fb51",
   "metadata": {},
   "outputs": [
    {
     "data": {
      "text/html": [
       "<style>\n",
       ".list-inline {list-style: none; margin:0; padding: 0}\n",
       ".list-inline>li {display: inline-block}\n",
       ".list-inline>li:not(:last-child)::after {content: \"\\00b7\"; padding: 0 .5ex}\n",
       "</style>\n",
       "<ol class=list-inline><li>'1'</li><li>'2'</li><li>'3'</li><li>'a'</li></ol>\n"
      ],
      "text/latex": [
       "\\begin{enumerate*}\n",
       "\\item '1'\n",
       "\\item '2'\n",
       "\\item '3'\n",
       "\\item 'a'\n",
       "\\end{enumerate*}\n"
      ],
      "text/markdown": [
       "1. '1'\n",
       "2. '2'\n",
       "3. '3'\n",
       "4. 'a'\n",
       "\n",
       "\n"
      ],
      "text/plain": [
       "[1] \"1\" \"2\" \"3\" \"a\""
      ]
     },
     "metadata": {},
     "output_type": "display_data"
    }
   ],
   "source": [
    "# ベクトルの要素に数値と文字列を混ぜる\n",
    "c(1, 2, 3, \"a\")"
   ]
  },
  {
   "cell_type": "markdown",
   "id": "bbb7a928",
   "metadata": {},
   "source": [
    "この出力結果を見ると、数値の1, 2, 3が文字列に変換されていることがわかります。このように、ベクトルの要素は全て同じデータ型に変換されます。同様に論理値も文字列に変換されます。\n"
   ]
  },
  {
   "cell_type": "code",
   "execution_count": 6,
   "id": "99e64dea",
   "metadata": {},
   "outputs": [
    {
     "data": {
      "text/html": [
       "<style>\n",
       ".list-inline {list-style: none; margin:0; padding: 0}\n",
       ".list-inline>li {display: inline-block}\n",
       ".list-inline>li:not(:last-child)::after {content: \"\\00b7\"; padding: 0 .5ex}\n",
       "</style>\n",
       "<ol class=list-inline><li>'TRUE'</li><li>'真'</li></ol>\n"
      ],
      "text/latex": [
       "\\begin{enumerate*}\n",
       "\\item 'TRUE'\n",
       "\\item '真'\n",
       "\\end{enumerate*}\n"
      ],
      "text/markdown": [
       "1. 'TRUE'\n",
       "2. '真'\n",
       "\n",
       "\n"
      ],
      "text/plain": [
       "[1] \"TRUE\" \"真\"  "
      ]
     },
     "metadata": {},
     "output_type": "display_data"
    },
    {
     "data": {
      "text/html": [
       "<style>\n",
       ".list-inline {list-style: none; margin:0; padding: 0}\n",
       ".list-inline>li {display: inline-block}\n",
       ".list-inline>li:not(:last-child)::after {content: \"\\00b7\"; padding: 0 .5ex}\n",
       "</style>\n",
       "<ol class=list-inline><li>1</li><li>2</li><li>3</li><li>1</li><li>0</li><li>&lt;NA&gt;</li></ol>\n"
      ],
      "text/latex": [
       "\\begin{enumerate*}\n",
       "\\item 1\n",
       "\\item 2\n",
       "\\item 3\n",
       "\\item 1\n",
       "\\item 0\n",
       "\\item <NA>\n",
       "\\end{enumerate*}\n"
      ],
      "text/markdown": [
       "1. 1\n",
       "2. 2\n",
       "3. 3\n",
       "4. 1\n",
       "5. 0\n",
       "6. &lt;NA&gt;\n",
       "\n",
       "\n"
      ],
      "text/plain": [
       "[1]  1  2  3  1  0 NA"
      ]
     },
     "metadata": {},
     "output_type": "display_data"
    }
   ],
   "source": [
    "c(TRUE, \"真\")\n",
    "\n",
    "# 論理値は数値に変換可能なため、数値が含まれたベクトルでは数値に変換される\n",
    "c(1, 2, 3, TRUE, FALSE, NA)"
   ]
  },
  {
   "cell_type": "markdown",
   "id": "31afd15a",
   "metadata": {},
   "source": [
    "## データフレーム\n",
    "\n",
    "データフレームは行と列からなる表形式のデータ構造です。行はデータの個々の観測値を表し、列はデータの変数を表します。\n",
    "\n",
    "データフレームは、複数のベクトルを組み合わせ、`data.frame()`関数を使って作成します。`data.frame()`関数の引数には、列名となるベクトルを指定します。列名は文字列で指定します。\n"
   ]
  },
  {
   "cell_type": "code",
   "execution_count": 7,
   "id": "64b433ea",
   "metadata": {},
   "outputs": [
    {
     "data": {
      "text/html": [
       "<table class=\"dataframe\">\n",
       "<caption>A data.frame: 5 × 4</caption>\n",
       "<thead>\n",
       "\t<tr><th scope=col>taxon</th><th scope=col>species</th><th scope=col>body_length_cm</th><th scope=col>body_weight_kg</th></tr>\n",
       "\t<tr><th scope=col>&lt;chr&gt;</th><th scope=col>&lt;chr&gt;</th><th scope=col>&lt;dbl&gt;</th><th scope=col>&lt;dbl&gt;</th></tr>\n",
       "</thead>\n",
       "<tbody>\n",
       "\t<tr><td>食肉類</td><td>レッサーパンダ    </td><td> 63.5</td><td>  6</td></tr>\n",
       "\t<tr><td>霊長類</td><td>チンパンジー      </td><td> 85.0</td><td> 60</td></tr>\n",
       "\t<tr><td>霊長類</td><td>マントヒヒ        </td><td> 80.0</td><td> 20</td></tr>\n",
       "\t<tr><td>食肉類</td><td>ライオン          </td><td>250.0</td><td>225</td></tr>\n",
       "\t<tr><td>鳥類  </td><td>フンボルトペンギン</td><td> 69.0</td><td>  6</td></tr>\n",
       "</tbody>\n",
       "</table>\n"
      ],
      "text/latex": [
       "A data.frame: 5 × 4\n",
       "\\begin{tabular}{llll}\n",
       " taxon & species & body\\_length\\_cm & body\\_weight\\_kg\\\\\n",
       " <chr> & <chr> & <dbl> & <dbl>\\\\\n",
       "\\hline\n",
       "\t 食肉類 & レッサーパンダ     &  63.5 &   6\\\\\n",
       "\t 霊長類 & チンパンジー       &  85.0 &  60\\\\\n",
       "\t 霊長類 & マントヒヒ         &  80.0 &  20\\\\\n",
       "\t 食肉類 & ライオン           & 250.0 & 225\\\\\n",
       "\t 鳥類   & フンボルトペンギン &  69.0 &   6\\\\\n",
       "\\end{tabular}\n"
      ],
      "text/markdown": [
       "\n",
       "A data.frame: 5 × 4\n",
       "\n",
       "| taxon &lt;chr&gt; | species &lt;chr&gt; | body_length_cm &lt;dbl&gt; | body_weight_kg &lt;dbl&gt; |\n",
       "|---|---|---|---|\n",
       "| 食肉類 | レッサーパンダ     |  63.5 |   6 |\n",
       "| 霊長類 | チンパンジー       |  85.0 |  60 |\n",
       "| 霊長類 | マントヒヒ         |  80.0 |  20 |\n",
       "| 食肉類 | ライオン           | 250.0 | 225 |\n",
       "| 鳥類   | フンボルトペンギン |  69.0 |   6 |\n",
       "\n"
      ],
      "text/plain": [
       "  taxon  species            body_length_cm body_weight_kg\n",
       "1 食肉類 レッサーパンダ      63.5            6           \n",
       "2 霊長類 チンパンジー        85.0           60           \n",
       "3 霊長類 マントヒヒ          80.0           20           \n",
       "4 食肉類 ライオン           250.0          225           \n",
       "5 鳥類   フンボルトペンギン  69.0            6           "
      ]
     },
     "metadata": {},
     "output_type": "display_data"
    }
   ],
   "source": [
    "# 動物についてのデータフレームを作成\n",
    "taxon <- c(\"食肉類\", \"霊長類\", \"霊長類\", \"食肉類\", \"鳥類\")\n",
    "\n",
    "# data.frame()関数の引数には、列名となるベクトルを指定する\n",
    "# ベクトルはdata.frame()関数の外側で定義されたものを与えてもよい\n",
    "df_animal <- \n",
    "  data.frame(\n",
    "    taxon = taxon,\n",
    "    species = c(\"レッサーパンダ\", \"チンパンジー\", \"マントヒヒ\", \"ライオン\", \"フンボルトペンギン\"),\n",
    "    body_length_cm = c(63.5, 85.0, 80.0, 250.0, 69.0),\n",
    "    body_weight_kg = c(6, 60, 20, 225, 6)\n",
    ")\n",
    "\n",
    "df_animal"
   ]
  },
  {
   "cell_type": "markdown",
   "id": "3d7093fb",
   "metadata": {},
   "source": [
    "データ分析や可視化を行う際など、データフレームはよく使われるデータ構造です。データフレームに含まれるデータをもとに、線形回帰モデルの適用や散布図の作成が可能です。\n"
   ]
  },
  {
   "cell_type": "code",
   "execution_count": 8,
   "id": "385d92ec",
   "metadata": {},
   "outputs": [
    {
     "data": {
      "text/plain": [
       "\n",
       "Call:\n",
       "lm(formula = body_length_cm ~ body_weight_kg, data = df_animal)\n",
       "\n",
       "Coefficients:\n",
       "   (Intercept)  body_weight_kg  \n",
       "       56.2987          0.8391  \n"
      ]
     },
     "metadata": {},
     "output_type": "display_data"
    }
   ],
   "source": [
    "# lm()関数を用いた線形回帰モデルの適用\n",
    "# 体長と体重の関係を表す線形回帰モデルを作成\n",
    "# y ~ ax + b の一次関数を記述します\n",
    "lm(body_length_cm ~ body_weight_kg, data = df_animal)"
   ]
  },
  {
   "cell_type": "code",
   "execution_count": 9,
   "id": "55d02469",
   "metadata": {},
   "outputs": [
    {
     "data": {
      "image/png": "[encoded data removed]",
      "text/plain": [
       "plot without title"
      ]
     },
     "metadata": {
      "image/png": {
       "height": 420,
       "width": 420
      }
     },
     "output_type": "display_data"
    }
   ],
   "source": [
    "plot(df_animal$body_weight_kg, df_animal$body_length_cm)"
   ]
  },
  {
   "cell_type": "code",
   "execution_count": 10,
   "id": "a8874c50",
   "metadata": {},
   "outputs": [
    {
     "data": {
      "image/png": "[encoded data removed]",
      "text/plain": [
       "plot without title"
      ]
     },
     "metadata": {
      "image/png": {
       "height": 420,
       "width": 420
      }
     },
     "output_type": "display_data"
    }
   ],
   "source": [
    "# ggplot2パッケージを用いた散布図の作成\n",
    "library(ggplot2)\n",
    "ggplot(data = df_animal) +\n",
    "  aes(body_weight_kg, body_length_cm) + geom_point()"
   ]
  },
  {
   "cell_type": "markdown",
   "id": "c292eb60",
   "metadata": {},
   "source": [
    "### csvファイルの読み込み\n",
    "\n",
    "csvファイルはカンマ`,`で区切られたテキストファイルです。csvファイルはテキストエディタや表計算ソフトで作成できます。編集に特別なソフトウェアを必要としないため、データのやり取りに便利です。\n",
    "\n",
    "csvファイルを読み込むには`read.csv()`関数を使います。\n"
   ]
  },
  {
   "cell_type": "code",
   "execution_count": 11,
   "id": "90fd9dd6",
   "metadata": {},
   "outputs": [
    {
     "data": {
      "text/html": [
       "<table class=\"dataframe\">\n",
       "<caption>A data.frame: 6 × 4</caption>\n",
       "<thead>\n",
       "\t<tr><th></th><th scope=col>taxon</th><th scope=col>name</th><th scope=col>body_length_cm</th><th scope=col>weight_kg</th></tr>\n",
       "\t<tr><th></th><th scope=col>&lt;chr&gt;</th><th scope=col>&lt;chr&gt;</th><th scope=col>&lt;dbl&gt;</th><th scope=col>&lt;dbl&gt;</th></tr>\n",
       "</thead>\n",
       "<tbody>\n",
       "\t<tr><th scope=row>1</th><td>食肉類</td><td>レッサーパンダ      </td><td> 63.5</td><td> 6.0</td></tr>\n",
       "\t<tr><th scope=row>2</th><td>鳥類  </td><td>ホオジロカンムリヅル</td><td>100.0</td><td> 3.5</td></tr>\n",
       "\t<tr><th scope=row>3</th><td>食肉類</td><td>コツメカワウソ      </td><td> 64.0</td><td> 5.4</td></tr>\n",
       "\t<tr><th scope=row>4</th><td>鳥類  </td><td>カナダガン          </td><td>110.0</td><td> 6.5</td></tr>\n",
       "\t<tr><th scope=row>5</th><td>霊長類</td><td>チンパンジー        </td><td> 85.0</td><td>60.0</td></tr>\n",
       "\t<tr><th scope=row>6</th><td>霊長類</td><td>シシオザル          </td><td> 66.0</td><td>10.0</td></tr>\n",
       "</tbody>\n",
       "</table>\n"
      ],
      "text/latex": [
       "A data.frame: 6 × 4\n",
       "\\begin{tabular}{r|llll}\n",
       "  & taxon & name & body\\_length\\_cm & weight\\_kg\\\\\n",
       "  & <chr> & <chr> & <dbl> & <dbl>\\\\\n",
       "\\hline\n",
       "\t1 & 食肉類 & レッサーパンダ       &  63.5 &  6.0\\\\\n",
       "\t2 & 鳥類   & ホオジロカンムリヅル & 100.0 &  3.5\\\\\n",
       "\t3 & 食肉類 & コツメカワウソ       &  64.0 &  5.4\\\\\n",
       "\t4 & 鳥類   & カナダガン           & 110.0 &  6.5\\\\\n",
       "\t5 & 霊長類 & チンパンジー         &  85.0 & 60.0\\\\\n",
       "\t6 & 霊長類 & シシオザル           &  66.0 & 10.0\\\\\n",
       "\\end{tabular}\n"
      ],
      "text/markdown": [
       "\n",
       "A data.frame: 6 × 4\n",
       "\n",
       "| <!--/--> | taxon &lt;chr&gt; | name &lt;chr&gt; | body_length_cm &lt;dbl&gt; | weight_kg &lt;dbl&gt; |\n",
       "|---|---|---|---|---|\n",
       "| 1 | 食肉類 | レッサーパンダ       |  63.5 |  6.0 |\n",
       "| 2 | 鳥類   | ホオジロカンムリヅル | 100.0 |  3.5 |\n",
       "| 3 | 食肉類 | コツメカワウソ       |  64.0 |  5.4 |\n",
       "| 4 | 鳥類   | カナダガン           | 110.0 |  6.5 |\n",
       "| 5 | 霊長類 | チンパンジー         |  85.0 | 60.0 |\n",
       "| 6 | 霊長類 | シシオザル           |  66.0 | 10.0 |\n",
       "\n"
      ],
      "text/plain": [
       "  taxon  name                 body_length_cm weight_kg\n",
       "1 食肉類 レッサーパンダ        63.5           6.0     \n",
       "2 鳥類   ホオジロカンムリヅル 100.0           3.5     \n",
       "3 食肉類 コツメカワウソ        64.0           5.4     \n",
       "4 鳥類   カナダガン           110.0           6.5     \n",
       "5 霊長類 チンパンジー          85.0          60.0     \n",
       "6 霊長類 シシオザル            66.0          10.0     "
      ]
     },
     "metadata": {},
     "output_type": "display_data"
    }
   ],
   "source": [
    "# csvファイルの読み込み\n",
    "# ローカル環境（自分のコンピュータ）にあるcsvファイルを読み込む場合は、ファイルが保存されている場所（パス）を指定する\n",
    "# ウェブ上のデータを読み込む場合はURLを指定する\n",
    "df_animal <-\n",
    "read.csv(\"https://raw.githubusercontent.com/uribo/tokupon_ds/main/data-raw/tokushima_zoo_animals22.csv\")\n",
    "\n",
    "# 先頭行のデータを表示\n",
    "head(df_animal)"
   ]
  },
  {
   "cell_type": "markdown",
   "id": "a9122dfc",
   "metadata": {},
   "source": [
    "### データフレームの操作\n",
    "\n",
    "データフレームの変数の値を参照するにはいくつかの方法があります。代表的なものを紹介します。\n",
    "\n",
    "1. `$`演算子を使う\n",
    "2. `[[]]`演算子を使う\n",
    "\n",
    "例えば、`df_animal`の`body_length_cm`変数にアクセスするには次のようにします。\n"
   ]
  },
  {
   "cell_type": "code",
   "execution_count": 12,
   "id": "5f3834c8",
   "metadata": {},
   "outputs": [
    {
     "data": {
      "text/html": [
       "<style>\n",
       ".list-inline {list-style: none; margin:0; padding: 0}\n",
       ".list-inline>li {display: inline-block}\n",
       ".list-inline>li:not(:last-child)::after {content: \"\\00b7\"; padding: 0 .5ex}\n",
       "</style>\n",
       "<ol class=list-inline><li>63.5</li><li>100</li><li>64</li><li>110</li><li>85</li><li>66</li><li>80</li><li>168</li><li>134</li><li>250</li><li>130</li><li>175</li><li>31</li><li>&lt;NA&gt;</li><li>1.2</li><li>250</li><li>35</li><li>69</li><li>&lt;NA&gt;</li><li>&lt;NA&gt;</li><li>40</li><li>&lt;NA&gt;</li></ol>\n"
      ],
      "text/latex": [
       "\\begin{enumerate*}\n",
       "\\item 63.5\n",
       "\\item 100\n",
       "\\item 64\n",
       "\\item 110\n",
       "\\item 85\n",
       "\\item 66\n",
       "\\item 80\n",
       "\\item 168\n",
       "\\item 134\n",
       "\\item 250\n",
       "\\item 130\n",
       "\\item 175\n",
       "\\item 31\n",
       "\\item <NA>\n",
       "\\item 1.2\n",
       "\\item 250\n",
       "\\item 35\n",
       "\\item 69\n",
       "\\item <NA>\n",
       "\\item <NA>\n",
       "\\item 40\n",
       "\\item <NA>\n",
       "\\end{enumerate*}\n"
      ],
      "text/markdown": [
       "1. 63.5\n",
       "2. 100\n",
       "3. 64\n",
       "4. 110\n",
       "5. 85\n",
       "6. 66\n",
       "7. 80\n",
       "8. 168\n",
       "9. 134\n",
       "10. 250\n",
       "11. 130\n",
       "12. 175\n",
       "13. 31\n",
       "14. &lt;NA&gt;\n",
       "15. 1.2\n",
       "16. 250\n",
       "17. 35\n",
       "18. 69\n",
       "19. &lt;NA&gt;\n",
       "20. &lt;NA&gt;\n",
       "21. 40\n",
       "22. &lt;NA&gt;\n",
       "\n",
       "\n"
      ],
      "text/plain": [
       " [1]  63.5 100.0  64.0 110.0  85.0  66.0  80.0 168.0 134.0 250.0 130.0 175.0\n",
       "[13]  31.0    NA   1.2 250.0  35.0  69.0    NA    NA  40.0    NA"
      ]
     },
     "metadata": {},
     "output_type": "display_data"
    },
    {
     "data": {
      "text/html": [
       "<style>\n",
       ".list-inline {list-style: none; margin:0; padding: 0}\n",
       ".list-inline>li {display: inline-block}\n",
       ".list-inline>li:not(:last-child)::after {content: \"\\00b7\"; padding: 0 .5ex}\n",
       "</style>\n",
       "<ol class=list-inline><li>63.5</li><li>100</li><li>64</li><li>110</li><li>85</li><li>66</li><li>80</li><li>168</li><li>134</li><li>250</li><li>130</li><li>175</li><li>31</li><li>&lt;NA&gt;</li><li>1.2</li><li>250</li><li>35</li><li>69</li><li>&lt;NA&gt;</li><li>&lt;NA&gt;</li><li>40</li><li>&lt;NA&gt;</li></ol>\n"
      ],
      "text/latex": [
       "\\begin{enumerate*}\n",
       "\\item 63.5\n",
       "\\item 100\n",
       "\\item 64\n",
       "\\item 110\n",
       "\\item 85\n",
       "\\item 66\n",
       "\\item 80\n",
       "\\item 168\n",
       "\\item 134\n",
       "\\item 250\n",
       "\\item 130\n",
       "\\item 175\n",
       "\\item 31\n",
       "\\item <NA>\n",
       "\\item 1.2\n",
       "\\item 250\n",
       "\\item 35\n",
       "\\item 69\n",
       "\\item <NA>\n",
       "\\item <NA>\n",
       "\\item 40\n",
       "\\item <NA>\n",
       "\\end{enumerate*}\n"
      ],
      "text/markdown": [
       "1. 63.5\n",
       "2. 100\n",
       "3. 64\n",
       "4. 110\n",
       "5. 85\n",
       "6. 66\n",
       "7. 80\n",
       "8. 168\n",
       "9. 134\n",
       "10. 250\n",
       "11. 130\n",
       "12. 175\n",
       "13. 31\n",
       "14. &lt;NA&gt;\n",
       "15. 1.2\n",
       "16. 250\n",
       "17. 35\n",
       "18. 69\n",
       "19. &lt;NA&gt;\n",
       "20. &lt;NA&gt;\n",
       "21. 40\n",
       "22. &lt;NA&gt;\n",
       "\n",
       "\n"
      ],
      "text/plain": [
       " [1]  63.5 100.0  64.0 110.0  85.0  66.0  80.0 168.0 134.0 250.0 130.0 175.0\n",
       "[13]  31.0    NA   1.2 250.0  35.0  69.0    NA    NA  40.0    NA"
      ]
     },
     "metadata": {},
     "output_type": "display_data"
    }
   ],
   "source": [
    "df_animal$body_length_cm\n",
    "\n",
    "df_animal[[\"body_length_cm\"]]"
   ]
  },
  {
   "cell_type": "markdown",
   "id": "bb4ea643",
   "metadata": {},
   "source": [
    "`$`演算子は参照したい変数名を文字列で指定します。`$`演算子は、`[]`演算子と異なり、複数の変数の値を同時に参照することはできません。\n",
    "\n",
    "また、これらの参照方法はベクトルとして変数の値を確認するものでした。データフレームの構造を維持したまま、つまり特定の列として参照するには`[]`演算子を使います。\n"
   ]
  },
  {
   "cell_type": "code",
   "execution_count": 13,
   "id": "7bc5c5e8",
   "metadata": {},
   "outputs": [
    {
     "data": {
      "text/html": [
       "<table class=\"dataframe\">\n",
       "<caption>A data.frame: 22 × 1</caption>\n",
       "<thead>\n",
       "\t<tr><th scope=col>body_length_cm</th></tr>\n",
       "\t<tr><th scope=col>&lt;dbl&gt;</th></tr>\n",
       "</thead>\n",
       "<tbody>\n",
       "\t<tr><td> 63.5</td></tr>\n",
       "\t<tr><td>100.0</td></tr>\n",
       "\t<tr><td> 64.0</td></tr>\n",
       "\t<tr><td>110.0</td></tr>\n",
       "\t<tr><td> 85.0</td></tr>\n",
       "\t<tr><td> 66.0</td></tr>\n",
       "\t<tr><td> 80.0</td></tr>\n",
       "\t<tr><td>168.0</td></tr>\n",
       "\t<tr><td>134.0</td></tr>\n",
       "\t<tr><td>250.0</td></tr>\n",
       "\t<tr><td>130.0</td></tr>\n",
       "\t<tr><td>175.0</td></tr>\n",
       "\t<tr><td> 31.0</td></tr>\n",
       "\t<tr><td>   NA</td></tr>\n",
       "\t<tr><td>  1.2</td></tr>\n",
       "\t<tr><td>250.0</td></tr>\n",
       "\t<tr><td> 35.0</td></tr>\n",
       "\t<tr><td> 69.0</td></tr>\n",
       "\t<tr><td>   NA</td></tr>\n",
       "\t<tr><td>   NA</td></tr>\n",
       "\t<tr><td> 40.0</td></tr>\n",
       "\t<tr><td>   NA</td></tr>\n",
       "</tbody>\n",
       "</table>\n"
      ],
      "text/latex": [
       "A data.frame: 22 × 1\n",
       "\\begin{tabular}{l}\n",
       " body\\_length\\_cm\\\\\n",
       " <dbl>\\\\\n",
       "\\hline\n",
       "\t  63.5\\\\\n",
       "\t 100.0\\\\\n",
       "\t  64.0\\\\\n",
       "\t 110.0\\\\\n",
       "\t  85.0\\\\\n",
       "\t  66.0\\\\\n",
       "\t  80.0\\\\\n",
       "\t 168.0\\\\\n",
       "\t 134.0\\\\\n",
       "\t 250.0\\\\\n",
       "\t 130.0\\\\\n",
       "\t 175.0\\\\\n",
       "\t  31.0\\\\\n",
       "\t    NA\\\\\n",
       "\t   1.2\\\\\n",
       "\t 250.0\\\\\n",
       "\t  35.0\\\\\n",
       "\t  69.0\\\\\n",
       "\t    NA\\\\\n",
       "\t    NA\\\\\n",
       "\t  40.0\\\\\n",
       "\t    NA\\\\\n",
       "\\end{tabular}\n"
      ],
      "text/markdown": [
       "\n",
       "A data.frame: 22 × 1\n",
       "\n",
       "| body_length_cm &lt;dbl&gt; |\n",
       "|---|\n",
       "|  63.5 |\n",
       "| 100.0 |\n",
       "|  64.0 |\n",
       "| 110.0 |\n",
       "|  85.0 |\n",
       "|  66.0 |\n",
       "|  80.0 |\n",
       "| 168.0 |\n",
       "| 134.0 |\n",
       "| 250.0 |\n",
       "| 130.0 |\n",
       "| 175.0 |\n",
       "|  31.0 |\n",
       "|    NA |\n",
       "|   1.2 |\n",
       "| 250.0 |\n",
       "|  35.0 |\n",
       "|  69.0 |\n",
       "|    NA |\n",
       "|    NA |\n",
       "|  40.0 |\n",
       "|    NA |\n",
       "\n"
      ],
      "text/plain": [
       "   body_length_cm\n",
       "1   63.5         \n",
       "2  100.0         \n",
       "3   64.0         \n",
       "4  110.0         \n",
       "5   85.0         \n",
       "6   66.0         \n",
       "7   80.0         \n",
       "8  168.0         \n",
       "9  134.0         \n",
       "10 250.0         \n",
       "11 130.0         \n",
       "12 175.0         \n",
       "13  31.0         \n",
       "14    NA         \n",
       "15   1.2         \n",
       "16 250.0         \n",
       "17  35.0         \n",
       "18  69.0         \n",
       "19    NA         \n",
       "20    NA         \n",
       "21  40.0         \n",
       "22    NA         "
      ]
     },
     "metadata": {},
     "output_type": "display_data"
    }
   ],
   "source": [
    "df_animal[3]"
   ]
  },
  {
   "cell_type": "markdown",
   "id": "90f31b2c",
   "metadata": {},
   "source": [
    "ベクトルの参照の例でも見たように、`[]`演算子での参照は`:`演算子や`-`を使った除外が可能です。\n"
   ]
  },
  {
   "cell_type": "code",
   "execution_count": 14,
   "id": "c7d153f6",
   "metadata": {},
   "outputs": [
    {
     "data": {
      "text/html": [
       "<table class=\"dataframe\">\n",
       "<caption>A data.frame: 22 × 2</caption>\n",
       "<thead>\n",
       "\t<tr><th scope=col>name</th><th scope=col>body_length_cm</th></tr>\n",
       "\t<tr><th scope=col>&lt;chr&gt;</th><th scope=col>&lt;dbl&gt;</th></tr>\n",
       "</thead>\n",
       "<tbody>\n",
       "\t<tr><td>レッサーパンダ      </td><td> 63.5</td></tr>\n",
       "\t<tr><td>ホオジロカンムリヅル</td><td>100.0</td></tr>\n",
       "\t<tr><td>コツメカワウソ      </td><td> 64.0</td></tr>\n",
       "\t<tr><td>カナダガン          </td><td>110.0</td></tr>\n",
       "\t<tr><td>チンパンジー        </td><td> 85.0</td></tr>\n",
       "\t<tr><td>シシオザル          </td><td> 66.0</td></tr>\n",
       "\t<tr><td>マントヒヒ          </td><td> 80.0</td></tr>\n",
       "\t<tr><td>ピューマ            </td><td>168.0</td></tr>\n",
       "\t<tr><td>カピバラ            </td><td>134.0</td></tr>\n",
       "\t<tr><td>ライオン            </td><td>250.0</td></tr>\n",
       "\t<tr><td>アフリカハゲコウ    </td><td>130.0</td></tr>\n",
       "\t<tr><td>シロオリックス      </td><td>175.0</td></tr>\n",
       "\t<tr><td>ミーアキャット      </td><td> 31.0</td></tr>\n",
       "\t<tr><td>シンリンオオカミ    </td><td>   NA</td></tr>\n",
       "\t<tr><td>アンデスコンドル    </td><td>  1.2</td></tr>\n",
       "\t<tr><td>ホッキョクグマ      </td><td>250.0</td></tr>\n",
       "\t<tr><td>リスザル            </td><td> 35.0</td></tr>\n",
       "\t<tr><td>フンボルトペンギン  </td><td> 69.0</td></tr>\n",
       "\t<tr><td>ラマ                </td><td>   NA</td></tr>\n",
       "\t<tr><td>ポニー              </td><td>   NA</td></tr>\n",
       "\t<tr><td>モルモット          </td><td> 40.0</td></tr>\n",
       "\t<tr><td>ヒツジ              </td><td>   NA</td></tr>\n",
       "</tbody>\n",
       "</table>\n"
      ],
      "text/latex": [
       "A data.frame: 22 × 2\n",
       "\\begin{tabular}{ll}\n",
       " name & body\\_length\\_cm\\\\\n",
       " <chr> & <dbl>\\\\\n",
       "\\hline\n",
       "\t レッサーパンダ       &  63.5\\\\\n",
       "\t ホオジロカンムリヅル & 100.0\\\\\n",
       "\t コツメカワウソ       &  64.0\\\\\n",
       "\t カナダガン           & 110.0\\\\\n",
       "\t チンパンジー         &  85.0\\\\\n",
       "\t シシオザル           &  66.0\\\\\n",
       "\t マントヒヒ           &  80.0\\\\\n",
       "\t ピューマ             & 168.0\\\\\n",
       "\t カピバラ             & 134.0\\\\\n",
       "\t ライオン             & 250.0\\\\\n",
       "\t アフリカハゲコウ     & 130.0\\\\\n",
       "\t シロオリックス       & 175.0\\\\\n",
       "\t ミーアキャット       &  31.0\\\\\n",
       "\t シンリンオオカミ     &    NA\\\\\n",
       "\t アンデスコンドル     &   1.2\\\\\n",
       "\t ホッキョクグマ       & 250.0\\\\\n",
       "\t リスザル             &  35.0\\\\\n",
       "\t フンボルトペンギン   &  69.0\\\\\n",
       "\t ラマ                 &    NA\\\\\n",
       "\t ポニー               &    NA\\\\\n",
       "\t モルモット           &  40.0\\\\\n",
       "\t ヒツジ               &    NA\\\\\n",
       "\\end{tabular}\n"
      ],
      "text/markdown": [
       "\n",
       "A data.frame: 22 × 2\n",
       "\n",
       "| name &lt;chr&gt; | body_length_cm &lt;dbl&gt; |\n",
       "|---|---|\n",
       "| レッサーパンダ       |  63.5 |\n",
       "| ホオジロカンムリヅル | 100.0 |\n",
       "| コツメカワウソ       |  64.0 |\n",
       "| カナダガン           | 110.0 |\n",
       "| チンパンジー         |  85.0 |\n",
       "| シシオザル           |  66.0 |\n",
       "| マントヒヒ           |  80.0 |\n",
       "| ピューマ             | 168.0 |\n",
       "| カピバラ             | 134.0 |\n",
       "| ライオン             | 250.0 |\n",
       "| アフリカハゲコウ     | 130.0 |\n",
       "| シロオリックス       | 175.0 |\n",
       "| ミーアキャット       |  31.0 |\n",
       "| シンリンオオカミ     |    NA |\n",
       "| アンデスコンドル     |   1.2 |\n",
       "| ホッキョクグマ       | 250.0 |\n",
       "| リスザル             |  35.0 |\n",
       "| フンボルトペンギン   |  69.0 |\n",
       "| ラマ                 |    NA |\n",
       "| ポニー               |    NA |\n",
       "| モルモット           |  40.0 |\n",
       "| ヒツジ               |    NA |\n",
       "\n"
      ],
      "text/plain": [
       "   name                 body_length_cm\n",
       "1  レッサーパンダ        63.5         \n",
       "2  ホオジロカンムリヅル 100.0         \n",
       "3  コツメカワウソ        64.0         \n",
       "4  カナダガン           110.0         \n",
       "5  チンパンジー          85.0         \n",
       "6  シシオザル            66.0         \n",
       "7  マントヒヒ            80.0         \n",
       "8  ピューマ             168.0         \n",
       "9  カピバラ             134.0         \n",
       "10 ライオン             250.0         \n",
       "11 アフリカハゲコウ     130.0         \n",
       "12 シロオリックス       175.0         \n",
       "13 ミーアキャット        31.0         \n",
       "14 シンリンオオカミ        NA         \n",
       "15 アンデスコンドル       1.2         \n",
       "16 ホッキョクグマ       250.0         \n",
       "17 リスザル              35.0         \n",
       "18 フンボルトペンギン    69.0         \n",
       "19 ラマ                    NA         \n",
       "20 ポニー                  NA         \n",
       "21 モルモット            40.0         \n",
       "22 ヒツジ                  NA         "
      ]
     },
     "metadata": {},
     "output_type": "display_data"
    },
    {
     "data": {
      "text/html": [
       "<table class=\"dataframe\">\n",
       "<caption>A data.frame: 22 × 3</caption>\n",
       "<thead>\n",
       "\t<tr><th scope=col>taxon</th><th scope=col>name</th><th scope=col>body_length_cm</th></tr>\n",
       "\t<tr><th scope=col>&lt;chr&gt;</th><th scope=col>&lt;chr&gt;</th><th scope=col>&lt;dbl&gt;</th></tr>\n",
       "</thead>\n",
       "<tbody>\n",
       "\t<tr><td>食肉類  </td><td>レッサーパンダ      </td><td> 63.5</td></tr>\n",
       "\t<tr><td>鳥類    </td><td>ホオジロカンムリヅル</td><td>100.0</td></tr>\n",
       "\t<tr><td>食肉類  </td><td>コツメカワウソ      </td><td> 64.0</td></tr>\n",
       "\t<tr><td>鳥類    </td><td>カナダガン          </td><td>110.0</td></tr>\n",
       "\t<tr><td>霊長類  </td><td>チンパンジー        </td><td> 85.0</td></tr>\n",
       "\t<tr><td>霊長類  </td><td>シシオザル          </td><td> 66.0</td></tr>\n",
       "\t<tr><td>霊長類  </td><td>マントヒヒ          </td><td> 80.0</td></tr>\n",
       "\t<tr><td>食肉類  </td><td>ピューマ            </td><td>168.0</td></tr>\n",
       "\t<tr><td>齧歯類  </td><td>カピバラ            </td><td>134.0</td></tr>\n",
       "\t<tr><td>食肉類  </td><td>ライオン            </td><td>250.0</td></tr>\n",
       "\t<tr><td>鳥類    </td><td>アフリカハゲコウ    </td><td>130.0</td></tr>\n",
       "\t<tr><td>偶蹄類  </td><td>シロオリックス      </td><td>175.0</td></tr>\n",
       "\t<tr><td>食肉類  </td><td>ミーアキャット      </td><td> 31.0</td></tr>\n",
       "\t<tr><td>食肉類  </td><td>シンリンオオカミ    </td><td>   NA</td></tr>\n",
       "\t<tr><td>鳥類    </td><td>アンデスコンドル    </td><td>  1.2</td></tr>\n",
       "\t<tr><td>食肉類  </td><td>ホッキョクグマ      </td><td>250.0</td></tr>\n",
       "\t<tr><td>霊長類  </td><td>リスザル            </td><td> 35.0</td></tr>\n",
       "\t<tr><td>鳥類    </td><td>フンボルトペンギン  </td><td> 69.0</td></tr>\n",
       "\t<tr><td>鯨偶蹄類</td><td>ラマ                </td><td>   NA</td></tr>\n",
       "\t<tr><td>奇蹄類  </td><td>ポニー              </td><td>   NA</td></tr>\n",
       "\t<tr><td>齧歯類  </td><td>モルモット          </td><td> 40.0</td></tr>\n",
       "\t<tr><td>鯨偶蹄類</td><td>ヒツジ              </td><td>   NA</td></tr>\n",
       "</tbody>\n",
       "</table>\n"
      ],
      "text/latex": [
       "A data.frame: 22 × 3\n",
       "\\begin{tabular}{lll}\n",
       " taxon & name & body\\_length\\_cm\\\\\n",
       " <chr> & <chr> & <dbl>\\\\\n",
       "\\hline\n",
       "\t 食肉類   & レッサーパンダ       &  63.5\\\\\n",
       "\t 鳥類     & ホオジロカンムリヅル & 100.0\\\\\n",
       "\t 食肉類   & コツメカワウソ       &  64.0\\\\\n",
       "\t 鳥類     & カナダガン           & 110.0\\\\\n",
       "\t 霊長類   & チンパンジー         &  85.0\\\\\n",
       "\t 霊長類   & シシオザル           &  66.0\\\\\n",
       "\t 霊長類   & マントヒヒ           &  80.0\\\\\n",
       "\t 食肉類   & ピューマ             & 168.0\\\\\n",
       "\t 齧歯類   & カピバラ             & 134.0\\\\\n",
       "\t 食肉類   & ライオン             & 250.0\\\\\n",
       "\t 鳥類     & アフリカハゲコウ     & 130.0\\\\\n",
       "\t 偶蹄類   & シロオリックス       & 175.0\\\\\n",
       "\t 食肉類   & ミーアキャット       &  31.0\\\\\n",
       "\t 食肉類   & シンリンオオカミ     &    NA\\\\\n",
       "\t 鳥類     & アンデスコンドル     &   1.2\\\\\n",
       "\t 食肉類   & ホッキョクグマ       & 250.0\\\\\n",
       "\t 霊長類   & リスザル             &  35.0\\\\\n",
       "\t 鳥類     & フンボルトペンギン   &  69.0\\\\\n",
       "\t 鯨偶蹄類 & ラマ                 &    NA\\\\\n",
       "\t 奇蹄類   & ポニー               &    NA\\\\\n",
       "\t 齧歯類   & モルモット           &  40.0\\\\\n",
       "\t 鯨偶蹄類 & ヒツジ               &    NA\\\\\n",
       "\\end{tabular}\n"
      ],
      "text/markdown": [
       "\n",
       "A data.frame: 22 × 3\n",
       "\n",
       "| taxon &lt;chr&gt; | name &lt;chr&gt; | body_length_cm &lt;dbl&gt; |\n",
       "|---|---|---|\n",
       "| 食肉類   | レッサーパンダ       |  63.5 |\n",
       "| 鳥類     | ホオジロカンムリヅル | 100.0 |\n",
       "| 食肉類   | コツメカワウソ       |  64.0 |\n",
       "| 鳥類     | カナダガン           | 110.0 |\n",
       "| 霊長類   | チンパンジー         |  85.0 |\n",
       "| 霊長類   | シシオザル           |  66.0 |\n",
       "| 霊長類   | マントヒヒ           |  80.0 |\n",
       "| 食肉類   | ピューマ             | 168.0 |\n",
       "| 齧歯類   | カピバラ             | 134.0 |\n",
       "| 食肉類   | ライオン             | 250.0 |\n",
       "| 鳥類     | アフリカハゲコウ     | 130.0 |\n",
       "| 偶蹄類   | シロオリックス       | 175.0 |\n",
       "| 食肉類   | ミーアキャット       |  31.0 |\n",
       "| 食肉類   | シンリンオオカミ     |    NA |\n",
       "| 鳥類     | アンデスコンドル     |   1.2 |\n",
       "| 食肉類   | ホッキョクグマ       | 250.0 |\n",
       "| 霊長類   | リスザル             |  35.0 |\n",
       "| 鳥類     | フンボルトペンギン   |  69.0 |\n",
       "| 鯨偶蹄類 | ラマ                 |    NA |\n",
       "| 奇蹄類   | ポニー               |    NA |\n",
       "| 齧歯類   | モルモット           |  40.0 |\n",
       "| 鯨偶蹄類 | ヒツジ               |    NA |\n",
       "\n"
      ],
      "text/plain": [
       "   taxon    name                 body_length_cm\n",
       "1  食肉類   レッサーパンダ        63.5         \n",
       "2  鳥類     ホオジロカンムリヅル 100.0         \n",
       "3  食肉類   コツメカワウソ        64.0         \n",
       "4  鳥類     カナダガン           110.0         \n",
       "5  霊長類   チンパンジー          85.0         \n",
       "6  霊長類   シシオザル            66.0         \n",
       "7  霊長類   マントヒヒ            80.0         \n",
       "8  食肉類   ピューマ             168.0         \n",
       "9  齧歯類   カピバラ             134.0         \n",
       "10 食肉類   ライオン             250.0         \n",
       "11 鳥類     アフリカハゲコウ     130.0         \n",
       "12 偶蹄類   シロオリックス       175.0         \n",
       "13 食肉類   ミーアキャット        31.0         \n",
       "14 食肉類   シンリンオオカミ        NA         \n",
       "15 鳥類     アンデスコンドル       1.2         \n",
       "16 食肉類   ホッキョクグマ       250.0         \n",
       "17 霊長類   リスザル              35.0         \n",
       "18 鳥類     フンボルトペンギン    69.0         \n",
       "19 鯨偶蹄類 ラマ                    NA         \n",
       "20 奇蹄類   ポニー                  NA         \n",
       "21 齧歯類   モルモット            40.0         \n",
       "22 鯨偶蹄類 ヒツジ                  NA         "
      ]
     },
     "metadata": {},
     "output_type": "display_data"
    },
    {
     "data": {
      "text/html": [
       "<table class=\"dataframe\">\n",
       "<caption>A data.frame: 22 × 2</caption>\n",
       "<thead>\n",
       "\t<tr><th scope=col>taxon</th><th scope=col>body_length_cm</th></tr>\n",
       "\t<tr><th scope=col>&lt;chr&gt;</th><th scope=col>&lt;dbl&gt;</th></tr>\n",
       "</thead>\n",
       "<tbody>\n",
       "\t<tr><td>食肉類  </td><td> 63.5</td></tr>\n",
       "\t<tr><td>鳥類    </td><td>100.0</td></tr>\n",
       "\t<tr><td>食肉類  </td><td> 64.0</td></tr>\n",
       "\t<tr><td>鳥類    </td><td>110.0</td></tr>\n",
       "\t<tr><td>霊長類  </td><td> 85.0</td></tr>\n",
       "\t<tr><td>霊長類  </td><td> 66.0</td></tr>\n",
       "\t<tr><td>霊長類  </td><td> 80.0</td></tr>\n",
       "\t<tr><td>食肉類  </td><td>168.0</td></tr>\n",
       "\t<tr><td>齧歯類  </td><td>134.0</td></tr>\n",
       "\t<tr><td>食肉類  </td><td>250.0</td></tr>\n",
       "\t<tr><td>鳥類    </td><td>130.0</td></tr>\n",
       "\t<tr><td>偶蹄類  </td><td>175.0</td></tr>\n",
       "\t<tr><td>食肉類  </td><td> 31.0</td></tr>\n",
       "\t<tr><td>食肉類  </td><td>   NA</td></tr>\n",
       "\t<tr><td>鳥類    </td><td>  1.2</td></tr>\n",
       "\t<tr><td>食肉類  </td><td>250.0</td></tr>\n",
       "\t<tr><td>霊長類  </td><td> 35.0</td></tr>\n",
       "\t<tr><td>鳥類    </td><td> 69.0</td></tr>\n",
       "\t<tr><td>鯨偶蹄類</td><td>   NA</td></tr>\n",
       "\t<tr><td>奇蹄類  </td><td>   NA</td></tr>\n",
       "\t<tr><td>齧歯類  </td><td> 40.0</td></tr>\n",
       "\t<tr><td>鯨偶蹄類</td><td>   NA</td></tr>\n",
       "</tbody>\n",
       "</table>\n"
      ],
      "text/latex": [
       "A data.frame: 22 × 2\n",
       "\\begin{tabular}{ll}\n",
       " taxon & body\\_length\\_cm\\\\\n",
       " <chr> & <dbl>\\\\\n",
       "\\hline\n",
       "\t 食肉類   &  63.5\\\\\n",
       "\t 鳥類     & 100.0\\\\\n",
       "\t 食肉類   &  64.0\\\\\n",
       "\t 鳥類     & 110.0\\\\\n",
       "\t 霊長類   &  85.0\\\\\n",
       "\t 霊長類   &  66.0\\\\\n",
       "\t 霊長類   &  80.0\\\\\n",
       "\t 食肉類   & 168.0\\\\\n",
       "\t 齧歯類   & 134.0\\\\\n",
       "\t 食肉類   & 250.0\\\\\n",
       "\t 鳥類     & 130.0\\\\\n",
       "\t 偶蹄類   & 175.0\\\\\n",
       "\t 食肉類   &  31.0\\\\\n",
       "\t 食肉類   &    NA\\\\\n",
       "\t 鳥類     &   1.2\\\\\n",
       "\t 食肉類   & 250.0\\\\\n",
       "\t 霊長類   &  35.0\\\\\n",
       "\t 鳥類     &  69.0\\\\\n",
       "\t 鯨偶蹄類 &    NA\\\\\n",
       "\t 奇蹄類   &    NA\\\\\n",
       "\t 齧歯類   &  40.0\\\\\n",
       "\t 鯨偶蹄類 &    NA\\\\\n",
       "\\end{tabular}\n"
      ],
      "text/markdown": [
       "\n",
       "A data.frame: 22 × 2\n",
       "\n",
       "| taxon &lt;chr&gt; | body_length_cm &lt;dbl&gt; |\n",
       "|---|---|\n",
       "| 食肉類   |  63.5 |\n",
       "| 鳥類     | 100.0 |\n",
       "| 食肉類   |  64.0 |\n",
       "| 鳥類     | 110.0 |\n",
       "| 霊長類   |  85.0 |\n",
       "| 霊長類   |  66.0 |\n",
       "| 霊長類   |  80.0 |\n",
       "| 食肉類   | 168.0 |\n",
       "| 齧歯類   | 134.0 |\n",
       "| 食肉類   | 250.0 |\n",
       "| 鳥類     | 130.0 |\n",
       "| 偶蹄類   | 175.0 |\n",
       "| 食肉類   |  31.0 |\n",
       "| 食肉類   |    NA |\n",
       "| 鳥類     |   1.2 |\n",
       "| 食肉類   | 250.0 |\n",
       "| 霊長類   |  35.0 |\n",
       "| 鳥類     |  69.0 |\n",
       "| 鯨偶蹄類 |    NA |\n",
       "| 奇蹄類   |    NA |\n",
       "| 齧歯類   |  40.0 |\n",
       "| 鯨偶蹄類 |    NA |\n",
       "\n"
      ],
      "text/plain": [
       "   taxon    body_length_cm\n",
       "1  食肉類    63.5         \n",
       "2  鳥類     100.0         \n",
       "3  食肉類    64.0         \n",
       "4  鳥類     110.0         \n",
       "5  霊長類    85.0         \n",
       "6  霊長類    66.0         \n",
       "7  霊長類    80.0         \n",
       "8  食肉類   168.0         \n",
       "9  齧歯類   134.0         \n",
       "10 食肉類   250.0         \n",
       "11 鳥類     130.0         \n",
       "12 偶蹄類   175.0         \n",
       "13 食肉類    31.0         \n",
       "14 食肉類      NA         \n",
       "15 鳥類       1.2         \n",
       "16 食肉類   250.0         \n",
       "17 霊長類    35.0         \n",
       "18 鳥類      69.0         \n",
       "19 鯨偶蹄類    NA         \n",
       "20 奇蹄類      NA         \n",
       "21 齧歯類    40.0         \n",
       "22 鯨偶蹄類    NA         "
      ]
     },
     "metadata": {},
     "output_type": "display_data"
    }
   ],
   "source": [
    "df_animal[2:3]\n",
    "\n",
    "df_animal[-4]\n",
    "\n",
    "df_animal[c(1, 3)]"
   ]
  },
  {
   "cell_type": "markdown",
   "id": "affe0a9d",
   "metadata": {},
   "source": [
    "`[]`演算子でのデータフレームの参照では、行と列の両方を指定できます。行と列を指定する場合は、`[行, 列]`の規則で参照する位置を指定します。\n"
   ]
  },
  {
   "cell_type": "code",
   "execution_count": 15,
   "id": "abff1b49",
   "metadata": {},
   "outputs": [
    {
     "data": {
      "text/html": [
       "<table class=\"dataframe\">\n",
       "<caption>A data.frame: 1 × 2</caption>\n",
       "<thead>\n",
       "\t<tr><th></th><th scope=col>name</th><th scope=col>body_length_cm</th></tr>\n",
       "\t<tr><th></th><th scope=col>&lt;chr&gt;</th><th scope=col>&lt;dbl&gt;</th></tr>\n",
       "</thead>\n",
       "<tbody>\n",
       "\t<tr><th scope=row>2</th><td>ホオジロカンムリヅル</td><td>100</td></tr>\n",
       "</tbody>\n",
       "</table>\n"
      ],
      "text/latex": [
       "A data.frame: 1 × 2\n",
       "\\begin{tabular}{r|ll}\n",
       "  & name & body\\_length\\_cm\\\\\n",
       "  & <chr> & <dbl>\\\\\n",
       "\\hline\n",
       "\t2 & ホオジロカンムリヅル & 100\\\\\n",
       "\\end{tabular}\n"
      ],
      "text/markdown": [
       "\n",
       "A data.frame: 1 × 2\n",
       "\n",
       "| <!--/--> | name &lt;chr&gt; | body_length_cm &lt;dbl&gt; |\n",
       "|---|---|---|\n",
       "| 2 | ホオジロカンムリヅル | 100 |\n",
       "\n"
      ],
      "text/plain": [
       "  name                 body_length_cm\n",
       "2 ホオジロカンムリヅル 100           "
      ]
     },
     "metadata": {},
     "output_type": "display_data"
    }
   ],
   "source": [
    "df_animal[2, c(2, 3)] # 2行目の2,3列のデータ"
   ]
  },
  {
   "cell_type": "markdown",
   "id": "7a900806",
   "metadata": {},
   "source": [
    "## 次の一歩\n",
    "\n",
    "- [徳島県オープンデータポータルサイト](https://opendata.pref.tokushima.lg.jp)から適当なデータをダウンロードして、データフレームとして読み込んでみましょう。\n",
    "    - ファイルのダウンロードは`download.file()`関数を使って行います。\n",
    "    - エクセルファイルの読み込みは`readxl`パッケージの`read_excel()`関数を使って行います。"
   ]
  }
 ],
 "metadata": {
  "jupytext": {
   "formats": "ipynb,qmd",
   "text_representation": {
    "extension": ".qmd",
    "format_name": "quarto",
    "format_version": "1.0",
    "jupytext_version": "1.14.5"
   }
  },
  "kernelspec": {
   "display_name": "R",
   "language": "R",
   "name": "ir"
  },
  "language_info": {
   "codemirror_mode": "r",
   "file_extension": ".r",
   "mimetype": "text/x-r-source",
   "name": "R",
   "pygments_lexer": "r",
   "version": "4.3.2"
  }
 },
 "nbformat": 4,
 "nbformat_minor": 5
}
