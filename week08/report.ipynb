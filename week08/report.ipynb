{
 "cells": [
  {
   "cell_type": "raw",
   "id": "2982d865",
   "metadata": {},
   "source": [
    "---\n",
    "title: 統計データの分析\n",
    "format: html\n",
    "lang: ja\n",
    "ascii: false\n",
    "keep-ipynb: true\n",
    "eval: false\n",
    "---"
   ]
  },
  {
   "cell_type": "markdown",
   "id": "247af41b",
   "metadata": {},
   "source": [
    "プログラミング言語やJupyter Notebookを利用することで、\n",
    "分析レポートの作成が容易になります。ここでは独立行政法人 統計センターが公開している教育用標準データセット (SSDSE)を用いて、統計データの分析を行います。\n",
    "\n",
    "ウェブブラウザから次のリンクにアクセスします。\n",
    "<https://www.nstac.go.jp/use/literacy/ssdse/>\n",
    "\n",
    "## データのダウンロード\n",
    "\n",
    "SSDSEにはいくつかのデータの種類（AからE）がありますが、ここでは、`SSDSE-県別推移`(SSDSE-B-2023)を用います。Excel形式、csv形式の2つのファイル形式でのダウンロードが可能ですが、**csv形式のファイルをダウンロード**します。\n",
    "\n",
    "自身の端末にファイルをダウンロードしたら、JupyterHubへもアップロードしておきましょう。\n",
    "\n",
    "## データの読み込み\n",
    "\n",
    "分析を始める前に、必要なパッケージとデータを読み込みます。\n",
    "次のコードを実行して、準備を整えましょう。\n"
   ]
  },
  {
   "cell_type": "code",
   "execution_count": 1,
   "id": "73670f86",
   "metadata": {},
   "outputs": [],
   "source": [
    "# 日本語の都道府県名をローマ字表記に変換するために利用する\n",
    "install.packages(\"zipangu\")\n",
    "# データ読み込み、操作、可視化などの機能を提供するパッケージ\n",
    "library(tidyverse)"
   ]
  },
  {
   "cell_type": "code",
   "execution_count": 2,
   "id": "0946363b",
   "metadata": {},
   "outputs": [],
   "source": [
    "# df という名前のオブジェクトにデータを格納します。\n",
    "# dfは表形式のデータを表す data frame の略称です。\n",
    "df <- \n",
    "  # ファイル名を変更して保存した場合、`SSDSE-B-2023.csv`の部分を変更してください。\n",
    "  read_csv(\"SSDSE-B-2023.csv\",\n",
    "           locale = locale(encoding = \"CP932\"))"
   ]
  },
  {
   "cell_type": "markdown",
   "id": "35027dbb",
   "metadata": {},
   "source": [
    "読み込んだデータを出力してみましょう。いくつかの出力方法が利用できます。\n"
   ]
  },
  {
   "cell_type": "code",
   "execution_count": 3,
   "id": "b2d8fe03",
   "metadata": {},
   "outputs": [],
   "source": [
    "df\n",
    "\n",
    "head(df)\n",
    "\n",
    "glimpse(df)"
   ]
  },
  {
   "cell_type": "markdown",
   "id": "9af2dade",
   "metadata": {},
   "source": [
    "つぎのコードブロックは「おまじない」的な処理です。\n",
    "以下の3つの処理を行っています。\n",
    "\n",
    "- 列の名前がわかりにくいので日本語の変数名を列名に当てる\n",
    "- 2020年のデータに限定する（絞り込む）\n",
    "- 分析に用いる列を選択する\n"
   ]
  },
  {
   "cell_type": "code",
   "execution_count": 4,
   "id": "271678aa",
   "metadata": {},
   "outputs": [],
   "source": [
    "cols <- \n",
    "  df |> \n",
    "  slice(1L) |> \n",
    "  unlist() |> \n",
    "  unname()\n",
    "\n",
    "df <- \n",
    "  df |> \n",
    "  slice(-1L) |> \n",
    "  type_convert(\n",
    "    col_types = cols(.default = col_double(), \n",
    "                     Code = col_character(), \n",
    "                     Prefecture = col_character()))\n",
    "\n",
    "df <- \n",
    "  df |> \n",
    "  filter(`SSDSE-B-2023` == 2020) |> \n",
    "  set_names(cols)\n",
    "\n",
    "df <- \n",
    "  df |> \n",
    "  mutate(`都道府県` = zipangu::convert_prefecture(`都道府県`, to = \"roman\")) |> \n",
    "  mutate(`都道府県` = str_remove(`都道府県`, \"-.+\"))\n",
    "\n",
    "df <- \n",
    "  df |> \n",
    "  select(!c(contains(\"（\"), \n",
    "            contains(\"年度\"),\n",
    "            contains(\"地域コード\"),\n",
    "            contains(\"のうち進学者数\"), \n",
    "            contains(\"年平均気温\"),\n",
    "            contains(\"教員数\"),\n",
    "            contains(\"在園者数\"),\n",
    "            contains(\"卒業者数\"),\n",
    "            contains(\"学生数\"),\n",
    "            contains(\"児童数\"),\n",
    "            contains(\"定員数\"),\n",
    "            contains(\"保育士数\"),\n",
    "            contains(\"在所児数\"),\n",
    "            contains(\"生徒数\"),\n",
    "            contains(\"着工新設\"),\n",
    "            contains(\"各種学校\")))"
   ]
  },
  {
   "cell_type": "markdown",
   "id": "a3181d28",
   "metadata": {},
   "source": [
    "## 総人口と高等学校数の関係\n",
    "\n",
    "### 可視化\n",
    "\n",
    "総人口と高等学校数の関係を散布図で可視化してみましょう。\n"
   ]
  },
  {
   "cell_type": "code",
   "execution_count": 5,
   "id": "08bb0a9a",
   "metadata": {},
   "outputs": [],
   "source": [
    "p <- \n",
    "  df |> \n",
    "  ggplot() +\n",
    "  aes(`総人口`, `高等学校数`) +\n",
    "  geom_point() +\n",
    "  labs(x = \"Population\", \n",
    "       y = \"Number of high schools\")\n",
    "\n",
    "p"
   ]
  },
  {
   "cell_type": "markdown",
   "id": "bc9cc20a",
   "metadata": {},
   "source": [
    "出力した散布図からどのような関係があると考えられますか？\n",
    "また、徳島県は散布部のどの位置にありますか？\n",
    "\n",
    "これらの問いに答えるために、さらに分析を進めてみましょう。\n"
   ]
  },
  {
   "cell_type": "code",
   "execution_count": 6,
   "id": "02ab1db1",
   "metadata": {},
   "outputs": [],
   "source": [
    "install.packages(c(\"gghighlight\", \"ggrepel\"))\n",
    "library(ggrepel)\n",
    "library(gghighlight)"
   ]
  },
  {
   "cell_type": "code",
   "execution_count": 7,
   "id": "14043b3d",
   "metadata": {},
   "outputs": [],
   "source": [
    "p2 <- \n",
    "  p +\n",
    "  geom_text_repel(aes(label = `都道府県`))\n",
    "\n",
    "p2"
   ]
  },
  {
   "cell_type": "code",
   "execution_count": 8,
   "id": "3d4dcc21",
   "metadata": {},
   "outputs": [],
   "source": [
    "p3 <- \n",
    "  p2 +\n",
    "  scale_x_log10() +\n",
    "  scale_y_log10()"
   ]
  },
  {
   "cell_type": "code",
   "execution_count": 9,
   "id": "5f14930d",
   "metadata": {},
   "outputs": [],
   "source": [
    "p3 +\n",
    "  gghighlight(`都道府県` %in% c(\"Tokushima\", \"Kagawa\", \"Kochi\", \"Ehime\"))"
   ]
  },
  {
   "cell_type": "markdown",
   "id": "83dff6ac",
   "metadata": {},
   "source": [
    "### 相関分析\n",
    "\n",
    "総人口と高等学校数の関係を相関分析を用いて調べてみましょう。\n",
    "相関係数は2つの変数の間にどのような関係があるかを示す指標です。\n",
    "1から-1までの値をとり、1に近いほど正の相関があることを示し、-1に近いほど負の相関があることを示します。\n"
   ]
  },
  {
   "cell_type": "code",
   "execution_count": 10,
   "id": "9a260e37",
   "metadata": {},
   "outputs": [],
   "source": [
    "cor(df$`総人口`, df$`高等学校数`)"
   ]
  },
  {
   "cell_type": "markdown",
   "id": "fbfcd33f",
   "metadata": {},
   "source": [
    "得られた相関係数から、総人口と高等学校数の間にはどのような関係があると考えられますか？\n",
    "\n",
    "## 高齢化率\n",
    "\n",
    "### データの加工\n",
    "\n",
    "ここでは「高齢化率」の定義を次のようにします。\n",
    "\n",
    "$$\n",
    "\\text{高齢化率} = \\frac{\\text{65歳以上の人口}}{\\text{総人口}} \\times 100\n",
    "$$"
   ]
  },
  {
   "cell_type": "code",
   "execution_count": 11,
   "id": "4198c5fd",
   "metadata": {},
   "outputs": [],
   "source": [
    "df <- \n",
    "  df |> \n",
    "  mutate(`高齢化率` = `65歳以上人口` / `総人口` * 100,\n",
    "         .after = `総人口`)"
   ]
  },
  {
   "cell_type": "markdown",
   "id": "adef5315",
   "metadata": {},
   "source": [
    "散布図により、総人口と高齢化率の関係を可視化してみます。\n"
   ]
  },
  {
   "cell_type": "code",
   "execution_count": 12,
   "id": "0c3b690f",
   "metadata": {},
   "outputs": [],
   "source": [
    "p <- \n",
    "  df |> \n",
    "  ggplot() +\n",
    "  aes(`総人口`, `高齢化率`) +\n",
    "  geom_point() +\n",
    "  labs(x = \"Population\", \n",
    "       y = \"Aging rate\")\n",
    "\n",
    "p"
   ]
  },
  {
   "cell_type": "code",
   "execution_count": 13,
   "id": "bae2b3a4",
   "metadata": {},
   "outputs": [],
   "source": [
    "p +\n",
    "  scale_x_log10() +\n",
    "  scale_y_log10() +\n",
    "  gghighlight(`都道府県` %in% c(\"Tokushima\", \"Kagawa\", \"Kochi\", \"Ehime\")) +\n",
    "  geom_text_repel(aes(label = `都道府県`))"
   ]
  },
  {
   "cell_type": "markdown",
   "id": "d0ae1dc7",
   "metadata": {},
   "source": [
    "### 回帰分析\n",
    "\n",
    "回帰分析は、変数の間にどのような関係があるかを調べるために用いられる手法です。総人口と高等学校数の関係を回帰分析を用いて調べてみましょう。\n"
   ]
  },
  {
   "cell_type": "code",
   "execution_count": 14,
   "id": "c4869f63",
   "metadata": {},
   "outputs": [],
   "source": [
    "cor(df |> \n",
    "      select(!c(`都道府県`))) |> \n",
    "  as.data.frame() |>  \n",
    "  tibble::rownames_to_column(\"項目\") |> \n",
    "  tibble::as_tibble() |> \n",
    "  select(`項目`, `高齢化率`) |> \n",
    "  arrange(`高齢化率`)"
   ]
  },
  {
   "cell_type": "code",
   "execution_count": 15,
   "id": "ead762da",
   "metadata": {},
   "outputs": [],
   "source": [
    "p <- \n",
    "  df |> \n",
    "  ggplot() +\n",
    "  aes(`出生数`, `高齢化率`) +\n",
    "  geom_point() +\n",
    "  labs(x = \"Births\", \n",
    "       y = \"Aging rate\")\n",
    "p"
   ]
  },
  {
   "cell_type": "code",
   "execution_count": 16,
   "id": "5f203449",
   "metadata": {},
   "outputs": [],
   "source": [
    "p2 <- \n",
    "  p + \n",
    "  geom_line(stat = \"smooth\", method = \"lm\")\n",
    "p2"
   ]
  },
  {
   "cell_type": "code",
   "execution_count": 17,
   "id": "aea68f18",
   "metadata": {},
   "outputs": [],
   "source": [
    "p3 <- \n",
    "  p2 +\n",
    "  geom_text_repel(aes(label = `都道府県`))\n",
    "p3"
   ]
  },
  {
   "cell_type": "code",
   "execution_count": 18,
   "id": "45493ae9",
   "metadata": {},
   "outputs": [],
   "source": [
    "lm_res <- \n",
    "  lm(`高齢化率` ~ `出生数`, data = df)\n",
    "summary(lm_res)"
   ]
  },
  {
   "cell_type": "code",
   "execution_count": 19,
   "id": "7de37506",
   "metadata": {},
   "outputs": [],
   "source": [
    "predict(lm_res)"
   ]
  },
  {
   "cell_type": "code",
   "execution_count": 20,
   "id": "842ada4a",
   "metadata": {},
   "outputs": [],
   "source": [
    "df |> \n",
    "  select(`都道府県`, `出生数`, `高齢化率`) |> \n",
    "  mutate(fitted_value = predict(lm_res),\n",
    "         residual = `高齢化率` - fitted_value) |> \n",
    "  ggplot() +\n",
    "  aes(`出生数`, `高齢化率`) +\n",
    "  geom_point() +\n",
    "  geom_line(aes(y = fitted_value)) +\n",
    "  labs(x = \"Births\", \n",
    "       y = \"Aging rate\") +\n",
    "  gghighlight(residual > 0) +\n",
    "  geom_text_repel(aes(label = `都道府県`), \n",
    "                  max.overlaps = Inf)"
   ]
  }
 ],
 "metadata": {
  "jupytext": {
   "formats": "ipynb,qmd",
   "text_representation": {
    "extension": ".qmd",
    "format_name": "quarto",
    "format_version": "1.0",
    "jupytext_version": "1.14.5"
   }
  },
  "kernelspec": {
   "display_name": "R",
   "language": "R",
   "name": "ir"
  },
  "language_info": {
   "codemirror_mode": "r",
   "file_extension": ".r",
   "mimetype": "text/x-r-source",
   "name": "R",
   "pygments_lexer": "r",
   "version": "4.3.2"
  }
 },
 "nbformat": 4,
 "nbformat_minor": 5
}
