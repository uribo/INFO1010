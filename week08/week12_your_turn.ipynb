{
 "cells": [
  {
   "cell_type": "raw",
   "id": "a1c4d815",
   "metadata": {},
   "source": [
    "---\n",
    "title: 統計データの分析\n",
    "format: html\n",
    "lang: ja\n",
    "ascii: false\n",
    "keep-ipynb: true\n",
    "eval: false\n",
    "---"
   ]
  },
  {
   "cell_type": "markdown",
   "id": "40417d67",
   "metadata": {},
   "source": [
    "独立行政法人 統計センターが公開している教育用標準データセット (SSDSE)から、`SSDSE-市区町村`（SSDSE-A）のデータをダウンロードし、分析に利用します。\n"
   ]
  },
  {
   "cell_type": "code",
   "execution_count": 1,
   "id": "ef7948b0",
   "metadata": {},
   "outputs": [],
   "source": [
    "# パッケージ、データの読み込み\n",
    "library(tidyverse)\n",
    "\n",
    "# ファイル名を変更して保存した場合、適宜置き換えてください。\n",
    "df <- read_csv(\"SSDSE-A-2023.csv\",\n",
    "               locale = locale(encoding = \"CP932\"))"
   ]
  },
  {
   "cell_type": "code",
   "execution_count": 2,
   "id": "45083094",
   "metadata": {},
   "outputs": [],
   "source": [
    "# おまじないコード。変更せずに実行して下さい\n",
    "df <-\n",
    "  df[-c(1, 2), ]\n",
    "\n",
    "df <- \n",
    "  df |> \n",
    "  select(`都道府県` = Prefecture, \n",
    "         `市区町村` = Municipality, \n",
    "         `総人口` = A1101,\n",
    "         `医師数` = 125) |> \n",
    "  readr::type_convert(col_types = \"ccdd\")"
   ]
  },
  {
   "cell_type": "markdown",
   "id": "2477820e",
   "metadata": {},
   "source": [
    "次にあなたのcアカウントの数値をもとにデータをランダムに抽出します。以下のコードの`set.seed()`関数の値にcアカウントの数値部分のみを入力し、実行して下さい。\n"
   ]
  },
  {
   "cell_type": "code",
   "execution_count": 3,
   "id": "9a662ba1",
   "metadata": {},
   "outputs": [],
   "source": [
    "# cアカウントの数値をここに与えて下さい\n",
    "# 例）c12345678の場合\n",
    "set.seed(12345678)\n",
    "df <- \n",
    "  df |> \n",
    "  sample_n(size = 200)"
   ]
  },
  {
   "cell_type": "markdown",
   "id": "49af19fb",
   "metadata": {},
   "source": [
    "総人口と医師数の散布図を描画してみましょう。\n",
    "下記のコードの `_` 部分を埋めて、適切なコードに置き換えてください。\n"
   ]
  },
  {
   "cell_type": "code",
   "execution_count": 4,
   "id": "91196481",
   "metadata": {},
   "outputs": [],
   "source": [
    "df |> \n",
    "  gg____() +\n",
    "  aes(x = ____, y = _____) +\n",
    "  geom_point() +\n",
    "  labs(x = \"総人口\", y = \"医師数\")"
   ]
  },
  {
   "cell_type": "markdown",
   "id": "5e6f6b61",
   "metadata": {},
   "source": [
    "## 相関分析\n",
    "\n",
    "`cor()`関数を使って、手元のデータでの総人口と医師数の相関係数を調べましょう。\n"
   ]
  },
  {
   "cell_type": "code",
   "execution_count": 5,
   "id": "2aaa8f72",
   "metadata": {},
   "outputs": [],
   "source": [
    "cor(df$____, df$____)"
   ]
  },
  {
   "cell_type": "markdown",
   "id": "908cc198",
   "metadata": {},
   "source": [
    "```\n",
    "# この結果から、総人口と医師数の間にはどのような関係があると考えられますか？（自由記述）\n",
    "```\n",
    "\n",
    "## 回帰分析\n",
    "\n",
    "`lm()`関数を使った回帰分析を行います。\n"
   ]
  },
  {
   "cell_type": "code",
   "execution_count": 6,
   "id": "76d0e5c6",
   "metadata": {},
   "outputs": [],
   "source": [
    "# lm(formula = y ~ x, data = data)\n",
    "lm_res <- \n",
    "  lm(formula = ____ ~ ____, data = df)\n",
    "summary(lm_res)"
   ]
  },
  {
   "cell_type": "markdown",
   "id": "2f15a42f",
   "metadata": {},
   "source": [
    "```\n",
    "# この結果から、総人口と医師数の間にはどのような関係があると考えられますか？（自由記述）\n",
    "```"
   ]
  }
 ],
 "metadata": {
  "jupytext": {
   "formats": "ipynb,qmd",
   "text_representation": {
    "extension": ".qmd",
    "format_name": "quarto",
    "format_version": "1.0",
    "jupytext_version": "1.14.5"
   }
  },
  "kernelspec": {
   "display_name": "R",
   "language": "R",
   "name": "ir"
  }
 },
 "nbformat": 4,
 "nbformat_minor": 5
}
