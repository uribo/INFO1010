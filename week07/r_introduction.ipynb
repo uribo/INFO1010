{
 "cells": [
  {
   "cell_type": "raw",
   "metadata": {},
   "source": [
    "---\n",
    "title: \"データ処理の手法\"\n",
    "format: html\n",
    "---"
   ]
  },
  {
   "cell_type": "markdown",
   "metadata": {},
   "source": [
    "データサイエンスはあらゆる種類のデータを処理・分析し、そこから有益な価値を生み出すことを目的としています。そのためデータの種類や表現方法について理解しておくことは、データサイエンスの基礎を理解する上で重要です。データの種類は数値や文字だけでしょうか。この章ではデータの種類と表現方法について学びます。\n",
    "\n",
    "## ベクトル\n",
    "\n",
    "`c()`関数を作ってベクトルオブジェクトを生成します。ベクトルには複数の要素を含めることができ、カンマ`,`で要素を区切って記述します。"
   ]
  },
  {
   "cell_type": "code",
   "execution_count": null,
   "metadata": {
    "vscode": {
     "languageId": "r"
    }
   },
   "outputs": [],
   "source": [
    "# 動物の体重\n",
    "x <- c(6, 3.5, 5.4)\n",
    "x\n",
    "\n",
    "# 動物園の来園者数\n",
    "c(320, 615, 1023)"
   ]
  },
  {
   "cell_type": "markdown",
   "metadata": {},
   "source": [
    "動物の分類群のベクトルを作成しましょう。"
   ]
  },
  {
   "cell_type": "code",
   "execution_count": null,
   "metadata": {
    "vscode": {
     "languageId": "r"
    }
   },
   "outputs": [],
   "source": [
    "#| eval: false\n",
    "# 動物の分類群\n",
    "c()"
   ]
  },
  {
   "cell_type": "markdown",
   "metadata": {},
   "source": [
    "ベクトルの要素を取り出すには、`[]`演算子を使います。`[]`の中には、取り出したい要素の位置を指定します。Rでは要素を数える際の番号は1から始まります。また`:`演算子を使ってベクトルの要素の範囲を指定することも可能です。"
   ]
  },
  {
   "cell_type": "code",
   "execution_count": null,
   "metadata": {
    "vscode": {
     "languageId": "r"
    }
   },
   "outputs": [],
   "source": [
    "x[1] # 最初の要素を取り出す\n",
    "\n",
    "x[2:3] # 2から3番目の要素を取り出す"
   ]
  },
  {
   "cell_type": "markdown",
   "metadata": {},
   "source": [
    "では、次のコードを実行するとどうなるでしょうか。コードを実行する前に出力結果を予想してみましょう。"
   ]
  },
  {
   "cell_type": "code",
   "execution_count": null,
   "metadata": {
    "vscode": {
     "languageId": "r"
    }
   },
   "outputs": [],
   "source": [
    "#| eval: false\n",
    "x[-2]"
   ]
  },
  {
   "cell_type": "markdown",
   "metadata": {},
   "source": [
    "`c()`関数の性質として、ベクトルの要素に異なるデータ型を与えた場合、ベクトルの要素は全て同じデータ型に変換されます。例えば、数値と文字列を混在させると全ての要素が文字列に変換されます。"
   ]
  },
  {
   "cell_type": "code",
   "execution_count": null,
   "metadata": {
    "vscode": {
     "languageId": "r"
    }
   },
   "outputs": [],
   "source": [
    "# ベクトルの要素に数値と文字列を混ぜる\n",
    "c(1, 2, 3, \"a\")"
   ]
  },
  {
   "cell_type": "markdown",
   "metadata": {},
   "source": [
    "この出力結果を見ると、数値の1, 2, 3が文字列に変換されていることがわかります。このように、ベクトルの要素は全て同じデータ型に変換されます。同様に論理値も文字列に変換されます。"
   ]
  },
  {
   "cell_type": "code",
   "execution_count": null,
   "metadata": {
    "vscode": {
     "languageId": "r"
    }
   },
   "outputs": [],
   "source": [
    "c(TRUE, \"真\")\n",
    "\n",
    "# 論理値は数値に変換可能なため、数値が含まれたベクトルでは数値に変換される\n",
    "c(1, 2, 3, TRUE, FALSE, NA)"
   ]
  },
  {
   "cell_type": "markdown",
   "metadata": {},
   "source": [
    "## データフレーム\n",
    "\n",
    "データフレームは行と列からなる表形式のデータ構造です。行はデータの個々の観測値を表し、列はデータの変数を表します。\n",
    "\n",
    "データフレームは、複数のベクトルを組み合わせ、`data.frame()`関数を使って作成します。`data.frame()`関数の引数には、列名となるベクトルを指定します。列名は文字列で指定します。"
   ]
  },
  {
   "cell_type": "code",
   "execution_count": null,
   "metadata": {
    "vscode": {
     "languageId": "r"
    }
   },
   "outputs": [],
   "source": [
    "# 動物についてのデータフレームを作成\n",
    "taxon <- c(\"食肉類\", \"霊長類\", \"霊長類\", \"食肉類\", \"鳥類\")\n",
    "\n",
    "# data.frame()関数の引数には、列名となるベクトルを指定する\n",
    "# ベクトルはdata.frame()関数の外側で定義されたものを与えてもよい\n",
    "df_zoo <- \n",
    "  data.frame(\n",
    "    taxon = taxon,\n",
    "    species = c(\"レッサーパンダ\", \"チンパンジー\", \"マントヒヒ\", \"ライオン\", \"フンボルトペンギン\"),\n",
    "    body_length_cm = c(63.5, 85.0, 80.0, 250.0, 69.0),\n",
    "    body_weight_kg = c(6, 60, 20, 225, 6)\n",
    ")\n",
    "\n",
    "df_zoo"
   ]
  },
  {
   "cell_type": "markdown",
   "metadata": {},
   "source": [
    "データ分析や可視化を行う際など、データフレームはよく使われるデータ構造です。データフレームに含まれるデータをもとに、線形回帰モデルの適用や散布図の作成が可能です。"
   ]
  },
  {
   "cell_type": "code",
   "execution_count": null,
   "metadata": {
    "vscode": {
     "languageId": "r"
    }
   },
   "outputs": [],
   "source": [
    "# lm()関数を用いた線形回帰モデルの適用\n",
    "# 体長と体重の関係を表す線形回帰モデルを作成\n",
    "# y ~ ax + b の一次関数を記述します\n",
    "lm(body_length_cm ~ body_weight_kg, data = df_zoo)"
   ]
  },
  {
   "cell_type": "code",
   "execution_count": null,
   "metadata": {
    "vscode": {
     "languageId": "r"
    }
   },
   "outputs": [],
   "source": [
    "plot(df_zoo$body_weight_kg, df_zoo$body_length_cm)"
   ]
  },
  {
   "cell_type": "code",
   "execution_count": null,
   "metadata": {
    "vscode": {
     "languageId": "r"
    }
   },
   "outputs": [],
   "source": [
    "# ggplot2パッケージを用いた散布図の作成\n",
    "library(ggplot2)\n",
    "ggplot(data = df_zoo) +\n",
    "  aes(body_weight_kg, body_length_cm) + geom_point()"
   ]
  },
  {
   "cell_type": "markdown",
   "metadata": {},
   "source": [
    "### csvファイルの読み込み\n",
    "\n",
    "csvファイルはカンマ`,`で区切られたテキストファイルです。csvファイルはテキストエディタや表計算ソフトで作成できます。編集に特別なソフトウェアを必要としないため、データのやり取りに便利です。\n",
    "\n",
    "csvファイルを読み込むには`read.csv()`関数を使います。"
   ]
  },
  {
   "cell_type": "code",
   "execution_count": null,
   "metadata": {
    "vscode": {
     "languageId": "r"
    }
   },
   "outputs": [],
   "source": [
    "# csvファイルの読み込み\n",
    "# ローカル環境（自分のコンピュータ）にあるcsvファイルを読み込む場合は、ファイルが保存されている場所（パス）を指定する\n",
    "# ウェブ上のデータを読み込む場合はURLを指定する\n",
    "df_zoo22 <-\n",
    "read.csv(\"https://raw.githubusercontent.com/uribo/tokupon_ds/main/data-raw/tokushima_zoo_animals22.csv\")\n",
    "\n",
    "# 先頭行のデータを表示\n",
    "head(df_zoo22)"
   ]
  },
  {
   "cell_type": "markdown",
   "metadata": {},
   "source": [
    "### データフレームの操作\n",
    "\n",
    "データフレームの変数の値を参照するにはいくつかの方法があります。代表的なものを紹介します。\n",
    "\n",
    "1. `$`演算子を使う\n",
    "2. `[[]]`演算子を使う\n",
    "\n",
    "例えば、`df_zoo`の`body_length_cm`変数にアクセスするには次のようにします。"
   ]
  },
  {
   "cell_type": "code",
   "execution_count": null,
   "metadata": {
    "vscode": {
     "languageId": "r"
    }
   },
   "outputs": [],
   "source": [
    "df_zoo$body_length_cm\n",
    "\n",
    "df_zoo[[\"body_length_cm\"]]"
   ]
  },
  {
   "cell_type": "markdown",
   "metadata": {},
   "source": [
    "`$`演算子は参照したい変数名を文字列で指定します。`$`演算子は、`[]`演算子と異なり、複数の変数の値を同時に参照することはできません。\n",
    "\n",
    "また、これらの参照方法はベクトルとして変数の値を確認するものでした。データフレームの構造を維持したまま、つまり特定の列として参照するには`[]`演算子を使います。"
   ]
  },
  {
   "cell_type": "code",
   "execution_count": null,
   "metadata": {
    "vscode": {
     "languageId": "r"
    }
   },
   "outputs": [],
   "source": [
    "df_zoo[3]"
   ]
  },
  {
   "cell_type": "markdown",
   "metadata": {},
   "source": [
    "ベクトルの参照の例でも見たように、`[]`演算子での参照は`:`演算子や`-`を使った除外が可能です。"
   ]
  },
  {
   "cell_type": "code",
   "execution_count": null,
   "metadata": {
    "vscode": {
     "languageId": "r"
    }
   },
   "outputs": [],
   "source": [
    "df_zoo[2:3]\n",
    "\n",
    "df_zoo[-4]\n",
    "\n",
    "df_zoo[c(1, 3)]"
   ]
  },
  {
   "cell_type": "markdown",
   "metadata": {},
   "source": [
    "`[]`演算子でのデータフレームの参照では、行と列の両方を指定できます。行と列を指定する場合は、`[行, 列]`の規則で参照する位置を指定します。"
   ]
  },
  {
   "cell_type": "code",
   "execution_count": null,
   "metadata": {
    "vscode": {
     "languageId": "r"
    }
   },
   "outputs": [],
   "source": [
    "df_zoo[2, c(2, 3)] # 2行目の2,3列のデータ"
   ]
  },
  {
   "cell_type": "markdown",
   "metadata": {},
   "source": [
    "データフレームに対して柔軟な操作を行う際は`dplyr`パッケージを使うと便利です。"
   ]
  },
  {
   "cell_type": "code",
   "execution_count": null,
   "metadata": {
    "vscode": {
     "languageId": "r"
    }
   },
   "outputs": [],
   "source": [
    "#| warning: false\n",
    "# dplyrパッケージの読み込み\n",
    "library(dplyr)"
   ]
  },
  {
   "cell_type": "markdown",
   "metadata": {},
   "source": [
    "dplyrパッケージが提供するデータ操作のための主要な関数を示します。\n",
    "\n",
    "- `select()`: 列を選択する\n",
    "- `filter()`: 行を選択する\n",
    "- `mutate()`: 列を加工する（上書き、追加）\n",
    "- `arrange()`: 行を並び替える\n",
    "- `group_by()`: グループ化する\n",
    "- `summarise()`: グループごとに集計する\n",
    "\n",
    "このほかにもたくさんのデータ操作関数が用意されています。いくつかの関数の使い方をみてみましょう。\n",
    "\n",
    "dplyrのデータ操作関数は原則的にデータフレームを第一引数に与え、出力もデータフレームです。"
   ]
  },
  {
   "cell_type": "code",
   "execution_count": null,
   "metadata": {
    "vscode": {
     "languageId": "r"
    }
   },
   "outputs": [],
   "source": [
    "# 列の選択\n",
    "# 第一引数に対象のデータフレーム、第二引数以降に選択したい列名を指定する\n",
    "select(df_zoo, species, body_length_cm, body_weight_kg)"
   ]
  },
  {
   "cell_type": "code",
   "execution_count": null,
   "metadata": {
    "vscode": {
     "languageId": "r"
    }
   },
   "outputs": [],
   "source": [
    "# 列（変数）の加工\n",
    "# 体重と体長の情報からBMIを求めた列を追加する\n",
    "mutate(df_zoo, bmi = body_weight_kg / (body_length_cm / 100) ^ 2)"
   ]
  },
  {
   "cell_type": "code",
   "execution_count": null,
   "metadata": {
    "vscode": {
     "languageId": "r"
    }
   },
   "outputs": [],
   "source": [
    "# 行の抽出\n",
    "# 体重が100kg以上の動物のみを抽出する\n",
    "filter(df_zoo, body_weight_kg > 100)"
   ]
  },
  {
   "cell_type": "markdown",
   "metadata": {},
   "source": [
    "こうしたデータ操作は、データに対して複数の処理を適用することが一般的です。そのため、パイプ演算子`|>`を使うとより簡潔に書くことが可能となります。パイプ演算子でつながれた関数の第一引数には、自動的に前の関数の出力が与えられます。先ほどの例をパイプ演算子を使った処理に書き換えてみましょう。\n"
   ]
  },
  {
   "cell_type": "code",
   "execution_count": null,
   "metadata": {
    "vscode": {
     "languageId": "r"
    }
   },
   "outputs": [],
   "source": [
    "# パイプ演算子を使ったデータ操作\n",
    "df_zoo |>\n",
    "  select(species, body_length_cm, body_weight_kg) |>\n",
    "  mutate(bmi = body_weight_kg / (body_length_cm / 100) ^ 2) |> \n",
    "  filter(body_weight_kg > 100)"
   ]
  },
  {
   "cell_type": "markdown",
   "metadata": {},
   "source": [
    "![連続した処理をパイプ演算子を使って記述する](https://github.com/uribo/INNV1250/raw/main/img/base_pipe.jpeg)\n",
    "\n",
    "## 次の一歩\n",
    "\n",
    "- [徳島県オープンデータポータルサイト](https://opendata.pref.tokushima.lg.jp)から適当なデータをダウンロードして、データフレームとして読み込んでみましょう。\n",
    "    - ファイルのダウンロードは`download.file()`関数を使って行います。\n",
    "    - エクセルファイルの読み込みは`readxl`パッケージの`read_excel()`関数を使って行います。"
   ]
  }
 ],
 "metadata": {
  "kernelspec": {
   "display_name": "R",
   "language": "R",
   "name": "ir"
  },
  "language_info": {
   "codemirror_mode": "r",
   "file_extension": ".r",
   "mimetype": "text/x-r-source",
   "name": "R",
   "pygments_lexer": "r",
   "version": "4.2.3"
  }
 },
 "nbformat": 4,
 "nbformat_minor": 4
}
