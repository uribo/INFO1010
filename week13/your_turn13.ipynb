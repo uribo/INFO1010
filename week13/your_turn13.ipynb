{
  "cells": [
    {
      "cell_type": "markdown",
      "metadata": {},
      "source": [
        "---\n",
        "title: 【課題】データのモデリング\n",
        "format: html\n",
        "keep-ipynb: true\n",
        "execute: \n",
        "  eval: true\n",
        "  echo: true\n",
        "jupyter:\n",
        "  jupytext:\n",
        "    formats: 'ipynb,qmd'\n",
        "    text_representation:\n",
        "      extension: .qmd\n",
        "      format_name: quarto\n",
        "      format_version: '1.0'\n",
        "      jupytext_version: 1.14.5\n",
        "  kernelspec:\n",
        "    display_name: R\n",
        "    language: R\n",
        "    name: ir\n",
        "---\n",
        "\n",
        "::: {.callout-important}\n",
        "\n",
        "以下の3つの問題文を読み、Rコードを記述、適当な選択肢を選択してください。\n",
        "\n",
        ":::\n",
        "\n",
        "## 問題: 線形モデルの実行\n",
        "\n",
        "6点\n",
        "\n",
        "以下のコードを実行し、ペンギンデータ(`penguins`)を読み込みます。読み込んだペンギンデータから、体重 `body_mass_g`を目的変数に、くちばしの長さ `bill_length_mm`を説明変数とした線形モデル(linear model)を実行するRコードを記述し、結果を出力してください。また、線形モデルの結果から言えることを選択肢の中から一つ選んでください（不適切と思われる選択肢を削除し、適切なものを残してください）。"
      ]
    },
    {
      "cell_type": "code",
      "metadata": {},
      "source": [
        "#| eval: false\n",
        "#| echo: true\n",
        "# ペンギンデータの読み込み\n",
        "penguins <- \n",
        "  readr::read_csv(\"https://raw.githubusercontent.com/allisonhorst/palmerpenguins/main/inst/extdata/penguins.csv\",\n",
        "                  col_types = \"ccddddcd\")"
      ],
      "execution_count": null,
      "outputs": []
    },
    {
      "cell_type": "code",
      "metadata": {},
      "source": [
        "# Rコードを記述\n",
        "# 線形モデルの実行コードを記述します\n",
        "# ヒント: formulaとdataを引数にもつ関数を使う\n",
        "# formula引数には 目的変数 ~ 説明変数\n",
        "# data引数には対象のデータを指定する"
      ],
      "execution_count": null,
      "outputs": []
    },
    {
      "cell_type": "markdown",
      "metadata": {},
      "source": [
        "回答のみを残し、他の選択肢については削除またはコメントアウト（行頭に`#`を追加）してください。\n",
        "\n",
        "```\n",
        "1. くちばしの長さ (`bill_length_mm`)は翼の長さ (`flipper_length_mm`)よりも体重(`body_mass_g`)に対する影響が強い\n",
        "2. くちばしの長さが1mm増えると、体重はおよそ87g増える\n",
        "3. くちばしの長さが増えると体重は減少する\n",
        "```\n",
        "\n",
        "\n",
        "## 問題: 一般化線形モデル\n",
        "\n",
        "2点\n",
        "\n",
        "一般化線形モデルに対する記述として**不適切なもの**を選択肢の中から一つ選んでください。\n",
        "\n",
        "```\n",
        "1. 一般化線形モデルは、（正規分布以外の確率分布に対応した）線形モデルの一般化である\n",
        "2. 一般化線形モデルは、線形モデルと同様に説明変数と目的変数の関係を表現する\n",
        "3. 一般化線形モデルは最小二乗法を用いてパラメータを推定する\n",
        "```"
      ]
    }
  ],
  "metadata": {
    "kernelspec": {
      "display_name": "R",
      "language": "R",
      "name": "ir"
    },
    "jupytext": {
      "formats": "ipynb,qmd",
      "text_representation": {
        "extension": ".qmd",
        "format_name": "quarto",
        "format_version": "1.0",
        "jupytext_version": "1.14.5"
      }
    }
  },
  "nbformat": 4,
  "nbformat_minor": 4
}