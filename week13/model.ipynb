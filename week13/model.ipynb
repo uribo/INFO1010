{
  "cells": [
    {
      "cell_type": "markdown",
      "metadata": {},
      "source": [
        "---\n",
        "title: データのモデリング\n",
        "format: html\n",
        "lang: ja\n",
        "ascii: false\n",
        "keep-ipynb: true\n",
        "jupyter:\n",
        "  jupytext:\n",
        "    formats: 'ipynb,qmd'\n",
        "    text_representation:\n",
        "      extension: .qmd\n",
        "      format_name: quarto\n",
        "      format_version: '1.0'\n",
        "      jupytext_version: 1.14.5\n",
        "  kernelspec:\n",
        "    display_name: R\n",
        "    language: R\n",
        "    name: ir\n",
        "---\n",
        "\n",
        "## 線形モデル\n",
        "\n",
        "### 単回帰モデル"
      ]
    },
    {
      "cell_type": "code",
      "metadata": {},
      "source": [
        "# 気温のデータを作成\n",
        "temperature <- seq(18, 40, 4)\n",
        "# アイスクリームの売り上げのデータを作成\n",
        "icecream_sales <- c(28, 45, 72, 82, 96, 100)"
      ],
      "execution_count": null,
      "outputs": []
    },
    {
      "cell_type": "code",
      "metadata": {},
      "source": [
        "# 散布図の作成\n",
        "plot(temperature, icecream_sales)"
      ],
      "execution_count": null,
      "outputs": []
    },
    {
      "cell_type": "code",
      "metadata": {},
      "source": [
        "# 単回帰モデルの構築\n",
        "# lm()関数の引数に 目的変数 ~ 説明変数 の形式で指定する\n",
        "model <- lm(formula = icecream_sales ~ temperature)"
      ],
      "execution_count": null,
      "outputs": []
    },
    {
      "cell_type": "code",
      "metadata": {},
      "source": [
        "# intercept... 切片\n",
        "# coefficient... 傾き（係数）\n",
        "coefficients(model)"
      ],
      "execution_count": null,
      "outputs": []
    },
    {
      "cell_type": "code",
      "metadata": {},
      "source": [
        "# 回帰直線の追加\n",
        "plot(temperature, icecream_sales)\n",
        "abline(model)"
      ],
      "execution_count": null,
      "outputs": []
    },
    {
      "cell_type": "code",
      "metadata": {},
      "source": [
        "# 新たなデータに対する予測\n",
        "predict(model, data.frame(temperature = 30))"
      ],
      "execution_count": null,
      "outputs": []
    },
    {
      "cell_type": "code",
      "metadata": {},
      "source": [
        "# p値を含む結果の出力\n",
        "summary(model)"
      ],
      "execution_count": null,
      "outputs": []
    },
    {
      "cell_type": "markdown",
      "metadata": {},
      "source": [
        "### 重回帰モデル"
      ]
    },
    {
      "cell_type": "code",
      "metadata": {},
      "source": [
        "# 重回帰モデルの構築\n",
        "humidity <- c(0.65, 0.8, 0.75, 0.85, 0.9, 0.8)\n",
        "wind_speed <- c(2, 3, 4, 6, 3, 1)\n",
        "model <- lm(icecream_sales ~ temperature + humidity + wind_speed)\n",
        "\n",
        "coefficients(model)\n",
        "\n",
        "summary(model)"
      ],
      "execution_count": null,
      "outputs": []
    },
    {
      "cell_type": "markdown",
      "metadata": {},
      "source": [
        "## 一般化線形モデル"
      ]
    },
    {
      "cell_type": "code",
      "metadata": {},
      "source": [
        "# 『データ解析のための統計モデリング入門』（久保2012）からデータを利用\n",
        "# 植物の種子数と体サイズについての架空のデータ\n",
        "d <- \n",
        "  readr::read_csv(\"https://kuboweb.github.io/-kubo/stat/iwanamibook/fig/poisson/data3a.csv\",\n",
        "                  col_types = \"ddc\") |> \n",
        "  dplyr::mutate(f = dplyr::case_match(\n",
        "    f,\n",
        "    \"C\" ~ \"Control\",\n",
        "    \"T\" ~ \"Treatment\"))\n",
        "\n",
        "head(d)\n",
        "# y... 植物の種子数\n",
        "# x... 体サイズ\n",
        "# f... 施肥処理（Control... 処理なし、Treatment... 処理あり）"
      ],
      "execution_count": null,
      "outputs": []
    },
    {
      "cell_type": "code",
      "metadata": {},
      "source": [
        "#| label: 体サイズと種子数の散布図\n",
        "library(ggplot2)\n",
        "ggplot(d) +\n",
        "  aes(x, y) +\n",
        "  geom_point(aes(color = f)) +\n",
        "  xlab(\"Size\") +\n",
        "  ylab(\"Number of seed\") +\n",
        "  scale_color_manual(values = c(\"Control\" = \"#f25d02\", \n",
        "                                \"Treatment\" = \"#0cb3d1\"))"
      ],
      "execution_count": null,
      "outputs": []
    },
    {
      "cell_type": "code",
      "metadata": {},
      "source": [
        "#| label: 施肥処理の違いに応じた種子数の箱ひげ図\n",
        "ggplot(d) +\n",
        "  aes(f, y) +\n",
        "  geom_boxplot(aes(color = f),\n",
        "               show.legend = FALSE) +\n",
        "  xlab(\"Size\") +\n",
        "  ylab(\"Number of seed\") +\n",
        "  scale_color_manual(values = c(\"Control\" = \"#f25d02\", \n",
        "                                \"Treatment\" = \"#0cb3d1\"))"
      ],
      "execution_count": null,
      "outputs": []
    },
    {
      "cell_type": "code",
      "metadata": {},
      "source": [
        "#| label: 施肥処理の違いに応じた種子数の蜂群図（箱ひげ図の改良）\n",
        "#| eval: false\n",
        "#| echo: false\n",
        "library(ggbeeswarm)\n",
        "ggplot(d) +\n",
        "  aes(f, y) +\n",
        "  geom_quasirandom(aes(color = f),\n",
        "               show.legend = FALSE) +\n",
        "  xlab(\"Size\") +\n",
        "  ylab(\"Number of seed\") +\n",
        "  scale_color_manual(values = c(\"Control\" = \"#f25d02\", \n",
        "                                \"Treatment\" = \"#0cb3d1\"))"
      ],
      "execution_count": null,
      "outputs": []
    },
    {
      "cell_type": "code",
      "metadata": {},
      "source": [
        "model <- glm(formula = y ~ x + f, data = d, family = poisson)\n",
        "summary(model)"
      ],
      "execution_count": null,
      "outputs": []
    },
    {
      "cell_type": "code",
      "metadata": {},
      "source": [
        "predict(model, newdata = data.frame(x = 12, f = \"Control\"), type = \"response\")\n",
        "predict(model, newdata = data.frame(x = 12, f = \"Treatment\"), type = \"response\")"
      ],
      "execution_count": null,
      "outputs": []
    }
  ],
  "metadata": {
    "kernelspec": {
      "display_name": "R",
      "language": "R",
      "name": "ir"
    },
    "jupytext": {
      "formats": "ipynb,qmd",
      "text_representation": {
        "extension": ".qmd",
        "format_name": "quarto",
        "format_version": "1.0",
        "jupytext_version": "1.14.5"
      }
    }
  },
  "nbformat": 4,
  "nbformat_minor": 4
}