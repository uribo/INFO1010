{
 "cells": [
  {
   "cell_type": "markdown",
   "metadata": {},
   "source": [
    "# データの可視化\n",
    "\n",
    "\n",
    "## パッケージのインストールと読み込み"
   ]
  },
  {
   "cell_type": "code",
   "execution_count": null,
   "metadata": {},
   "outputs": [],
   "source": [
    "#| label: このファイルで利用する不足パッケージのインストール\n",
    "#| eval: false\n",
    "#| echo: true\n",
    "install.packages(c(\"gghighlight\", \n",
    "                   \"ggrepel\", \"palmerpenguins\", \"patchwork\",\n",
    "                   \"zipangu\"))\n",
    "install.packages(\"ssdse\", \n",
    "                 repos = c(\"https://uribo.r-universe.dev\", \"https://cloud.r-project.org\"))"
   ]
  },
  {
   "cell_type": "code",
   "execution_count": null,
   "metadata": {},
   "outputs": [],
   "source": [
    "library(dplyr, warn.conflicts = FALSE)\n",
    "library(ggplot2)\n",
    "library(patchwork) # 複数のグラフの配置調整\n",
    "library(gghighlight) # グラフの一部をハイライト\n",
    "library(ggrepel) # ラベル表示 (geom_text_repel, geom_label_repel)\n",
    "library(palmerpenguins)\n",
    "library(zipangu)\n",
    "data(penguins)"
   ]
  },
  {
   "cell_type": "code",
   "execution_count": null,
   "metadata": {},
   "outputs": [],
   "source": [
    "# データフレームから四国4県のデータを抽出しやすくする関数を定義する\n",
    "filter_shikoku <- function(data, var = prefecture) {\n",
    "  data |>\n",
    "    dplyr::filter({{ var }} %in% c(\"Tokushima-ken\", \"Kagawa-ken\", \"Ehime-ken\", \"Kochi-ken\")) |> \n",
    "    dplyr::mutate({{ var }} := forcats::fct_relevel({{ var }}, \"Tokushima-ken\", \"Kagawa-ken\", \"Ehime-ken\", \"Kochi-ken\"))\n",
    "}"
   ]
  },
  {
   "cell_type": "markdown",
   "metadata": {},
   "source": [
    "## ggplot2によるグラフ作成\n",
    "\n",
    "::: {.callout-warning}\n",
    "\n",
    "情報センターJupyterHubではRの作図中に日本語を利用すると文字化けします。対策を検討中...。\n",
    "\n",
    ":::"
   ]
  },
  {
   "cell_type": "code",
   "execution_count": null,
   "metadata": {},
   "outputs": [],
   "source": [
    "#| label: step1 データの指定\n",
    "#| eval: false\n",
    "#| echo: true\n",
    "# ペンギンデータを利用\n",
    "ggplot(data = penguins)"
   ]
  },
  {
   "cell_type": "code",
   "execution_count": null,
   "metadata": {},
   "outputs": [],
   "source": [
    "#| label: step2　審美的要素とデータの紐付け\n",
    "#| eval: false\n",
    "#| echo: true\n",
    "ggplot(data = penguins) +\n",
    "  # x軸、y軸に対応するデータを指定\n",
    "  aes(x = flipper_length_mm, \n",
    "        y = bill_length_mm)"
   ]
  },
  {
   "cell_type": "code",
   "execution_count": null,
   "metadata": {},
   "outputs": [],
   "source": [
    "#| label: step3 ジオメトリレイヤを選択\n",
    "#| eval: false\n",
    "#| echo: true\n",
    "ggplot(data = penguins) +\n",
    "  aes(x = flipper_length_mm, \n",
    "        y = bill_length_mm) +\n",
    "  # 散布図として描画\n",
    "  geom_point()"
   ]
  },
  {
   "cell_type": "code",
   "execution_count": null,
   "metadata": {},
   "outputs": [],
   "source": [
    "#| label: step4 審美的要素とデータの紐付け\n",
    "#| eval: false\n",
    "#| echo: true\n",
    "ggplot(data = penguins) +\n",
    "  aes(x = flipper_length_mm, \n",
    "        y = bill_length_mm,\n",
    "        # speciesでの散布図の塗り分け\n",
    "        color = species) +\n",
    "  geom_point()"
   ]
  },
  {
   "cell_type": "markdown",
   "metadata": {},
   "source": [
    "ペンギンデータのspeciesごとに凡例の形を変更するにはどうすればよいでしょうか。コードを記述して確認してみましょう。\n",
    "\n",
    "\n",
    "## 多様なグラフ表現\n",
    "\n",
    "独立行政法人統計センターによる様々な分野の都道府県別・時系列データを集めたデータセット（[SSDSE-県別推移](https://www.nstac.go.jp/use/literacy/ssdse/#SSDSE-B)）を利用します。\n"
   ]
  },
  {
   "cell_type": "code",
   "execution_count": null,
   "metadata": {},
   "outputs": [],
   "source": [
    "# いくつかの列のみ抽出\n",
    "df_ssdse_b <- \n",
    "  ssdse::read_ssdse_b(\"https://www.nstac.go.jp/sys/files/SSDSE-B-2023.csv\", \n",
    "                      lang = \"ja\",\n",
    "                      pack = FALSE) |>\n",
    "  select(`SSDSE.B.2023`, `都道府県`, \n",
    "         `人口・世帯_総人口`, \n",
    "         `人口・世帯_出生数（男）`, \n",
    "         `人口・世帯_出生数（女）`,\n",
    "         `教育_大学学生数`, \n",
    "         `家計_消費支出（二人以上の世帯）`,\n",
    "         `家計_食料費（二人以上の世帯）`) |> \n",
    "  rename_with(~ c(\"year\", \"prefecture\", \n",
    "                  \"population\", \"birth_male\", \"birth_female\",\n",
    "                  \"university_student\", \"spending\", \"food_expenses\")) |>\n",
    "  mutate(prefecture = zipangu::convert_prefecture(prefecture, to = \"roman\"))\n",
    "\n",
    "df_ssdse_b2020 <- \n",
    "  df_ssdse_b |> \n",
    "  filter(year == 2020)"
   ]
  },
  {
   "cell_type": "code",
   "execution_count": null,
   "metadata": {},
   "outputs": [],
   "source": [
    "# データの確認\n",
    "glimpse(df_ssdse_b)"
   ]
  },
  {
   "cell_type": "markdown",
   "metadata": {},
   "source": [
    "### 棒グラフ"
   ]
  },
  {
   "cell_type": "code",
   "execution_count": null,
   "metadata": {},
   "outputs": [],
   "source": [
    "df_ssdse_b2020 |>\n",
    "  ggplot() +\n",
    "  aes(prefecture, population) +\n",
    "  geom_bar(stat = \"identity\")"
   ]
  },
  {
   "cell_type": "code",
   "execution_count": null,
   "metadata": {},
   "outputs": [],
   "source": [
    "df_ssdse_b2020 |>\n",
    "  ggplot() +\n",
    "  aes(prefecture, population) +\n",
    "  geom_bar(stat = \"identity\") +\n",
    "  # 棒を縦に並べる\n",
    "  coord_flip()"
   ]
  },
  {
   "cell_type": "code",
   "execution_count": null,
   "metadata": {},
   "outputs": [],
   "source": [
    "df_ssdse_b2020 |>\n",
    "  # おおよその緯度の順番に配置する\n",
    "  mutate(prefecture = forcats::fct_rev(forcats::fct_inorder(prefecture))) |>\n",
    "  ggplot() +\n",
    "  aes(prefecture, population) +\n",
    "  geom_bar(stat = \"identity\") +\n",
    "  coord_flip()"
   ]
  },
  {
   "cell_type": "markdown",
   "metadata": {},
   "source": [
    "### 散布図\n",
    "\n",
    "散布図は、2変数間の関係を表現するために用いられるグラフです。例えば、ペンギンのくちばしの長さと体重の関係を表現することで、くちばしの長さが大きい個体は体重も大きい傾向にあることがわかります。"
   ]
  },
  {
   "cell_type": "code",
   "execution_count": null,
   "metadata": {},
   "outputs": [],
   "source": [
    "ggplot(data = penguins) +\n",
    "  aes(x = bill_length_mm, y = body_mass_g) +\n",
    "  geom_point()"
   ]
  },
  {
   "cell_type": "code",
   "execution_count": null,
   "metadata": {},
   "outputs": [],
   "source": [
    "p <- \n",
    "  df_ssdse_b2020 |>\n",
    "  ggplot() +\n",
    "  aes(food_expenses, spending) +\n",
    "  geom_point()"
   ]
  },
  {
   "cell_type": "code",
   "execution_count": null,
   "metadata": {},
   "outputs": [],
   "source": [
    "# 都道府県名を表示\n",
    "p +\n",
    "  geom_text_repel(aes(label = prefecture))"
   ]
  },
  {
   "cell_type": "code",
   "execution_count": null,
   "metadata": {},
   "outputs": [],
   "source": [
    "# 四国4県のポイントをハイライト\n",
    "p  +\n",
    "  geom_text(data = df_ssdse_b2020 |> \n",
    "                    filter_shikoku(), \n",
    "                  aes(label = prefecture)) +\n",
    "  gghighlight(prefecture %in% c(\"Tokushima-ken\", \"Kagawa-ken\", \"Ehime-ken\", \"Kochi-ken\"))"
   ]
  },
  {
   "cell_type": "markdown",
   "metadata": {},
   "source": [
    "### 折れ線グラフ"
   ]
  },
  {
   "cell_type": "code",
   "execution_count": null,
   "metadata": {},
   "outputs": [],
   "source": [
    "p <- \n",
    "  df_ssdse_b |>\n",
    "  filter_shikoku() |>\n",
    "  ggplot() +\n",
    "  aes(year, population, group = prefecture, color = prefecture) +\n",
    "  geom_line()"
   ]
  },
  {
   "cell_type": "code",
   "execution_count": null,
   "metadata": {},
   "outputs": [],
   "source": [
    "# 任意の色指定\n",
    "# x軸の表記を変更\n",
    "p +\n",
    "  scale_color_manual(\n",
    "    values = c(`Tokushima-ken` = \"#953F56\", \n",
    "               `Ehime-ken` = \"#0F1347\", \n",
    "               `Kagawa-ken` = \"#77835E\", \n",
    "               `Kochi-ken` = \"#BC974E\")) +\n",
    "  scale_x_continuous(\n",
    "    breaks = seq.int(2008, 2020, by = 2))"
   ]
  },
  {
   "cell_type": "markdown",
   "metadata": {},
   "source": [
    "### 箱ひげ図\n",
    "\n",
    "箱ひげ図は、データの分布（最小値、中央値を含めた四分位点、最大値）を表現するために用いられるグラフです。動物の分類群など、離散値のデータを可視化することで分類群での比較が可能となります。"
   ]
  },
  {
   "cell_type": "code",
   "execution_count": null,
   "metadata": {},
   "outputs": [],
   "source": [
    "p_core <- \n",
    "  df_ssdse_b |>\n",
    "  filter_shikoku() |>\n",
    "  ggplot() +\n",
    "  aes(prefecture, spending)"
   ]
  },
  {
   "cell_type": "code",
   "execution_count": null,
   "metadata": {},
   "outputs": [],
   "source": [
    "p_core +\n",
    "  geom_boxplot()"
   ]
  },
  {
   "cell_type": "markdown",
   "metadata": {},
   "source": [
    "バイオリンプロット ... 具体的なデータの分布を確認"
   ]
  },
  {
   "cell_type": "code",
   "execution_count": null,
   "metadata": {},
   "outputs": [],
   "source": [
    "p_core + \n",
    "  geom_violin()"
   ]
  },
  {
   "cell_type": "markdown",
   "metadata": {},
   "source": [
    "### ヒストグラム"
   ]
  },
  {
   "cell_type": "code",
   "execution_count": null,
   "metadata": {},
   "outputs": [],
   "source": [
    "df_ssdse_b2020 |>\n",
    "  ggplot() +\n",
    "  aes(x = spending) +\n",
    "  geom_histogram(bins = 10)"
   ]
  },
  {
   "cell_type": "code",
   "execution_count": null,
   "metadata": {},
   "outputs": [],
   "source": [
    "df_ssdse_b |>\n",
    "  filter_shikoku() |>\n",
    "  filter(between(year, 2015, 2020)) |>\n",
    "  ggplot() +\n",
    "  aes(prefecture, population) +\n",
    "  geom_bar(stat = \"identity\",\n",
    "           aes(group = year, fill = year),\n",
    "           position = \"dodge\") +\n",
    "  scale_fill_viridis_c() +\n",
    "  coord_flip()"
   ]
  },
  {
   "cell_type": "markdown",
   "metadata": {},
   "source": [
    "### 座標系"
   ]
  },
  {
   "cell_type": "code",
   "execution_count": null,
   "metadata": {},
   "outputs": [],
   "source": [
    "p <-\n",
    "  ggplot(data = penguins) +\n",
    "  aes(x = flipper_length_mm,\n",
    "      y = bill_length_mm) +\n",
    "  geom_point()\n",
    "\n",
    "p +\n",
    "  coord_fixed(ratio = 1)\n",
    "p +\n",
    "  coord_flip()"
   ]
  },
  {
   "cell_type": "code",
   "execution_count": null,
   "metadata": {},
   "outputs": [],
   "source": [
    "p <-\n",
    "  df_ssdse_b2020 |>\n",
    "  filter_shikoku() |>\n",
    "  ggplot() +\n",
    "  aes(x = 1, population, fill = prefecture) +\n",
    "  geom_bar(stat = \"identity\") +\n",
    "  scale_fill_manual(values = c(`Tokushima-ken` = \"#953F56\", \n",
    "               `Ehime-ken` = \"#0F1347\", \n",
    "               `Kagawa-ken` = \"#77835E\", \n",
    "               `Kochi-ken` = \"#BC974E\"))"
   ]
  },
  {
   "cell_type": "code",
   "execution_count": null,
   "metadata": {},
   "outputs": [],
   "source": [
    "p"
   ]
  },
  {
   "cell_type": "code",
   "execution_count": null,
   "metadata": {},
   "outputs": [],
   "source": [
    "p +\n",
    "  coord_polar(theta = \"y\", start = 0)"
   ]
  },
  {
   "cell_type": "markdown",
   "metadata": {},
   "source": [
    "### スケール"
   ]
  },
  {
   "cell_type": "code",
   "execution_count": null,
   "metadata": {},
   "outputs": [],
   "source": [
    "df_ssdse_b |>\n",
    "  filter_shikoku() |>\n",
    "  ggplot() +\n",
    "  aes(year, population,\n",
    "      group = prefecture,\n",
    "      color = prefecture) +\n",
    "  geom_line() +\n",
    "  scale_x_continuous(\n",
    "    breaks = seq.int(2008, 2019, by = 2)) +\n",
    "  scale_y_log10() +\n",
    "  scale_color_viridis_d()"
   ]
  },
  {
   "cell_type": "markdown",
   "metadata": {},
   "source": [
    "### その他"
   ]
  },
  {
   "cell_type": "code",
   "execution_count": null,
   "metadata": {},
   "outputs": [],
   "source": [
    "df_ssdse_b |>\n",
    "  ggplot(aes(year, university_student, color = prefecture)) +\n",
    "  geom_line()"
   ]
  },
  {
   "cell_type": "code",
   "execution_count": null,
   "metadata": {},
   "outputs": [],
   "source": [
    "# 人口1万人あたり\n",
    "df_ssdse_b |>\n",
    "  mutate(university_student_per10000 = (university_student / population) * 10000) |>\n",
    "  ggplot(aes(year, university_student_per10000, color = prefecture)) +\n",
    "  geom_line(show.legend = FALSE) +\n",
    "  scale_y_log10() +\n",
    "  gghighlight(prefecture == \"Tokushima-ken\")"
   ]
  },
  {
   "cell_type": "markdown",
   "metadata": {},
   "source": [
    "可視化したい項目に応じてデータを整える"
   ]
  },
  {
   "cell_type": "code",
   "execution_count": null,
   "metadata": {},
   "outputs": [],
   "source": [
    "df_ssdse_b_pop <-\n",
    "  df_ssdse_b |> \n",
    "  filter_shikoku() |> \n",
    "    select(year, prefecture, starts_with(\"birth_\")) |> \n",
    "    tidyr::pivot_longer(cols = starts_with(\"birth_\"),\n",
    "                        names_to = \"gender\",\n",
    "                        values_to = \"population\",\n",
    "                        names_prefix = \"birth_\")\n",
    "\n",
    "head(df_ssdse_b_pop, n = 3)"
   ]
  },
  {
   "cell_type": "code",
   "execution_count": null,
   "metadata": {},
   "outputs": [],
   "source": [
    "# facet\n",
    "df_ssdse_b_pop |>  \n",
    "  ggplot() +\n",
    "  aes(year, population) +\n",
    "  geom_line(aes(group = prefecture, color = prefecture)) +\n",
    "  facet_wrap(~ gender,\n",
    "             ncol = 2)"
   ]
  }
 ],
 "metadata": {
  "jupytext": {
   "formats": "ipynb,qmd",
   "text_representation": {
    "extension": ".qmd",
    "format_name": "quarto",
    "format_version": "1.0",
    "jupytext_version": "1.14.5"
   }
  },
  "kernelspec": {
   "display_name": "R",
   "language": "R",
   "name": "ir"
  }
 },
 "nbformat": 4,
 "nbformat_minor": 4
}
