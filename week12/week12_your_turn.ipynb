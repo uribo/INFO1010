{
  "cells": [
    {
      "cell_type": "markdown",
      "metadata": {},
      "source": [
        "---\n",
        "title: 【課題】データの関係\n",
        "---\n",
        "\n",
        "::: {.callout-important}\n",
        "\n",
        "以下の3つの問題について、適当なRコードを記述または選択肢を選択してください。\n",
        "\n",
        ":::\n",
        "\n",
        "## 問題: 共分散を求める\n",
        "\n",
        "以下のXとYについて、共分散を求めるRコードを記述してください。\n",
        "またXとZについても`cov()`関数を使って不偏共分散を求めましょう。\n",
        "\n",
        "$$\n",
        "Cov_{x,y} = \\frac{1}{n}(x_{i}-\\bar{x})(y_i-\\bar{y})\n",
        "$$"
      ]
    },
    {
      "cell_type": "code",
      "execution_count": null,
      "metadata": {},
      "outputs": [],
      "source": [
        "X <- c(3, 5, 7, 8, 10)\n",
        "Y <- c(0, 2, 4, 5, 7)\n",
        "\n",
        "# 以下にRコードを記述してください"
      ]
    },
    {
      "cell_type": "code",
      "execution_count": null,
      "metadata": {},
      "outputs": [],
      "source": [
        "Z <- c(7, 8, 12, 14, 15)\n",
        "\n",
        "# 以下にRコードを記述してください"
      ]
    },
    {
      "cell_type": "markdown",
      "metadata": {},
      "source": [
        "## 問題: 相関係数\n",
        "\n",
        "以下の図は、各都道府県の県庁所在における平均的な家庭(二人以上)が2022年に購入したソースとしょう油の量の対応をグラフにしたもので散布図と呼ばれます。\n",
        "\n",
        "グラフのX軸のしょう油の購入数量と、Y軸のソースの購入数量それぞれの値の強さを相関係数という尺度にしてみると、約0.16となりました。グラフまた相関係数の大きさから言えることを以下の項目から1つ選んでください。\n",
        "\n",
        "![](https://raw.githubusercontent.com/uribo/INNV1250/main/img/q06.png)\n",
        "\n",
        "回答のみを残し、他の選択肢については削除またはコメントアウト（行頭に`#`を追加）してください。\n",
        "\n",
        "```\n",
        "1. しょう油の購入が多い都市は、ソースの購入数量が少なくなる傾向があるようだ。\n",
        "2. しょう油の購入が多い都市は、ソースの購入数量も多くなる傾向があるようだ。\n",
        "3. しょう油とソースの都市ごとの購入量に関係はなさそうだ。\n",
        "```\n",
        "\n",
        "元のデータ: https://www.e-stat.go.jp/stat-search/files?page=1&layout=datalist&toukei=00200561&tstat=000000330001&cycle=7&year=20220&month=0&tclass1=000000330001&tclass2=000000330004&tclass3=000000330005&result_back=1&cycle_facet=tclass1&tclass4val=0&metadata=1&data=1\n",
        "\n",
        "\n",
        "\n",
        "## 問題: 相関と因果の違い\n",
        "\n",
        "次の図は徳島市における「殺虫・防虫剤」と「アイスクリーム・シャーベット」の 100世帯当たりの月ごとの購入頻度を棒グラフで示したものです。この図から確認できることとして、もっとも適切なものを一つ選んでください。\n",
        "\n",
        "![](https://raw.githubusercontent.com/uribo/INNV1250/main/img/q09.png)\n",
        "\n",
        "回答のみを残し、他の選択肢については削除またはコメントアウト（行頭に`#`を追加）してください。\n",
        "\n",
        "```\n",
        "1. 「アイスクリーム・シャーベット」も「殺虫・防虫剤」も、毎年夏場(6~8 月)に消費が増えている。そのため「アイスクリーム・シャーベット」と「殺虫・防 虫剤」の売り上げの関係は、観測していない別の要因(例えば気温)によって生じていると考える。\n",
        "2. 「アイスクリーム・シャーベット」と「殺虫・防虫剤」の売り上げは連動しているように見て取れる。そのためこれらの間には因果関係があるとみなす。\n",
        "3. 「アイスクリーム・シャーベット」と「殺虫・防虫剤」の売り上げの連動は偶然起こったと考える。\n",
        "```"
      ]
    }
  ],
  "metadata": {
    "jupytext": {
      "formats": "ipynb,qmd",
      "text_representation": {
        "extension": ".qmd",
        "format_name": "quarto",
        "format_version": "1.0",
        "jupytext_version": "1.14.5"
      }
    },
    "kernelspec": {
      "display_name": "R",
      "language": "R",
      "name": "ir"
    },
    "language_info": {
      "name": "r"
    }
  },
  "nbformat": 4,
  "nbformat_minor": 4
}
