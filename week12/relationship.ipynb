{
 "cells": [
  {
   "cell_type": "raw",
   "id": "069cec50",
   "metadata": {
    "vscode": {
     "languageId": "raw"
    }
   },
   "source": [
    "---\n",
    "title: データの関係を見る\n",
    "---"
   ]
  },
  {
   "cell_type": "markdown",
   "id": "7951c362",
   "metadata": {},
   "source": [
    "データ間の関係の理解、比較を行うことは、データサイエンスの中でも重要な意味をもちます。例えば、データの関係を理解することで、予測モデルを構築することが可能となります。また、データの比較を行うことで、データ間の特徴、特定の変数が他の変数にどのような影響を与えるか、を理解することができます。\n",
    "\n",
    "データの関係の把握・比較の方法は主に2つあります。1つは、データの可視化を行うことです。可視化を行うことで、データの傾向や関係を直感的に理解することができます。例えば連続値からなる2変数のグラフには散布図が利用して、データの分布傾向について理解を深めることが可能です。離散値の場合は、棒グラフや円グラフなどが用いられます。これらの可視化方法については[ggplot2を使ったデータ可視化の基礎](../week09/graph.qmd)で扱った通りです。\n",
    "\n",
    "もう1つのデータの関係の把握・比較の方法は、統計的な手法を用いることです。これには統計的仮説検定や相関分析などがあります。ここではまず、関係を調べる方法を紹介します。\n"
   ]
  },
  {
   "cell_type": "code",
   "execution_count": 1,
   "id": "6979ac49",
   "metadata": {
    "vscode": {
     "languageId": "r"
    }
   },
   "outputs": [],
   "source": [
    "# 利用するパッケージの読み込み\n",
    "library(ggplot2)\n",
    "library(dplyr, warn.conflicts = FALSE)"
   ]
  },
  {
   "cell_type": "markdown",
   "id": "4fbf4a76",
   "metadata": {},
   "source": [
    "## 相関分析: 統計的手法を用いた比較\n",
    "\n",
    "データの比較・関係を把握するためには、統計的手法を用いることもできます。ここでは、相関分析を紹介します。\n",
    "\n",
    "相関分析は、2つの変数間の関係を数値化する手法です。例えば、南極に生育するペンギンのくちばしの長さと体重の関係を調べた際、次の散布図から、くちばしが長い個体では体重も大きい傾向にあることがわかります。一方、どの程度の関連性があるのかといったことは散布図だけではわかりません。そこで変数間の関係性の程度を示す統計量を求めることで、その関連性を評価できるようになります。\n"
   ]
  },
  {
   "cell_type": "code",
   "execution_count": 2,
   "id": "1295f1d2",
   "metadata": {
    "vscode": {
     "languageId": "r"
    }
   },
   "outputs": [],
   "source": [
    "# ペンギンデータの読み込み\n",
    "penguins <-\n",
    "  readr::read_csv(\"https://raw.githubusercontent.com/allisonhorst/palmerpenguins/main/inst/extdata/penguins.csv\",\n",
    "                  col_types = \"ccddddcd\")"
   ]
  },
  {
   "cell_type": "code",
   "execution_count": null,
   "id": "994973ab",
   "metadata": {
    "vscode": {
     "languageId": "r"
    }
   },
   "outputs": [],
   "source": [
    "#| fig-cap: \"くちばしが長い個体ほど体重が大きい傾向にある\"\n",
    "ggplot(data = penguins) +\n",
    "  aes(bill_length_mm, body_mass_g) +\n",
    "  geom_point()"
   ]
  },
  {
   "cell_type": "markdown",
   "id": "7464ee60",
   "metadata": {},
   "source": [
    "### 共分散 (covariance)\n",
    "\n",
    "共分散は、2つの変数間の関係を数値化する手法の一つです。共分散は、2つの変数の偏差の積の平均値を表現します。偏差とは、平均値からのズレを表します。\n",
    "\n",
    "以下の式で2つの変数の間の共分散を求めることができます。\n",
    "\n",
    "$$\n",
    "\\begin{aligned}\n",
    "\\mathrm{cov}(X, Y) &= \\frac{1}{n}\\sum_{i=1}^{n}(x_i - \\bar{x})(y_i - \\bar{y}) \\\\\n",
    "&= \\frac{1}{n}\\sum_{i=1}^{n}x_iy_i - \\bar{x}\\bar{y}\n",
    "\\end{aligned}\n",
    "$$\n",
    "\n",
    "共分散の求め方を一つ一つ読み解いてみましょう。まず、この式で使われる記号を確認します。\n",
    "\n",
    "- $\\mathrm{cov}(X, Y)$ : 変数 $X$ と変数 $Y$ の共分散\n",
    "- $n$ : データの件数 \n",
    "- $x_i$ および $y_i$ : 変数 $X$ 、変数 $Y$ における $i$ 番目のデータ\n",
    "- $\\bar{x}$ と $\\bar{y}$ : 変数 $X$ 、変数 $Y$ それぞれの平均値\n",
    "\n",
    "ここでは、共分散を用いて、くちばしの長さと体重の関係を数値化してみましょう。\n"
   ]
  },
  {
   "cell_type": "code",
   "execution_count": 4,
   "id": "ee13e192",
   "metadata": {
    "vscode": {
     "languageId": "r"
    }
   },
   "outputs": [],
   "source": [
    "# ペンギンデータからくちばしの長さと体重の2つの変数を選択し、\n",
    "# 欠損していないデータのみを抽出\n",
    "df <-\n",
    "  penguins |>\n",
    "  select(bill_length_mm, body_mass_g) |>\n",
    "  filter(!is.na(bill_length_mm), !is.na(body_mass_g))"
   ]
  },
  {
   "cell_type": "code",
   "execution_count": 5,
   "id": "a41544ad",
   "metadata": {
    "vscode": {
     "languageId": "r"
    }
   },
   "outputs": [],
   "source": [
    "# XとYにそれぞれくちばしの長さと体重のデータを代入\n",
    "X <- df$bill_length_mm\n",
    "Y <- df$body_mass_g\n",
    "\n",
    "# くちばしの長さと体重の平均値を求める\n",
    "mean_x <- mean(X)\n",
    "mean_y <- mean(Y)"
   ]
  },
  {
   "cell_type": "code",
   "execution_count": null,
   "id": "18749538",
   "metadata": {
    "vscode": {
     "languageId": "r"
    }
   },
   "outputs": [],
   "source": [
    "# X - mean_x でXの偏差を求める\n",
    "# Xの各値がXの平均値からどの程度ズレているか\n",
    "head(X - mean_x)"
   ]
  },
  {
   "cell_type": "code",
   "execution_count": null,
   "id": "bc58910b",
   "metadata": {
    "vscode": {
     "languageId": "r"
    }
   },
   "outputs": [],
   "source": [
    "# Yについても同様に偏差を求め、Xの偏差とYの偏差の積を求める\n",
    "step1_result <- (X - mean_x) * (Y - mean_y)\n",
    "head(step1_result)"
   ]
  },
  {
   "cell_type": "code",
   "execution_count": null,
   "id": "99c6b17b",
   "metadata": {
    "vscode": {
     "languageId": "r"
    }
   },
   "outputs": [],
   "source": [
    "# 偏差の積を足し合わせ、データの件数で割る（平均値を求める）\n",
    "# --> 共分散\n",
    "step2_result <- sum(step1_result) / nrow(df)\n",
    "step2_result"
   ]
  },
  {
   "cell_type": "code",
   "execution_count": 7,
   "id": "d106db80",
   "metadata": {
    "vscode": {
     "languageId": "r"
    }
   },
   "outputs": [],
   "source": [
    "# 不偏共分散\n",
    "sum(step1_result) / (nrow(df) -1)"
   ]
  },
  {
   "cell_type": "code",
   "execution_count": 8,
   "id": "c4584b13",
   "metadata": {
    "vscode": {
     "languageId": "r"
    }
   },
   "outputs": [],
   "source": [
    "# 別の求め方\n",
    "# 平均、偏差を求める\n",
    "df <-\n",
    "  df |>\n",
    "  mutate(across(everything(),\n",
    "                .fns = ~ mean(.x, na.rm = TRUE),\n",
    "                .names = \"{.col}_mean\")) |>\n",
    "  rowwise() |>\n",
    "  mutate(\n",
    "    bill_length_deviation = bill_length_mm - bill_length_mm_mean,\n",
    "    body_mass_deviation = body_mass_g - body_mass_g_mean)\n",
    "\n",
    "head(df)"
   ]
  },
  {
   "cell_type": "code",
   "execution_count": 9,
   "id": "379459fc",
   "metadata": {
    "vscode": {
     "languageId": "r"
    }
   },
   "outputs": [],
   "source": [
    "df |>\n",
    "  transmute(deviation_cross = bill_length_deviation * body_mass_deviation) |>\n",
    "  ungroup() |>\n",
    "  pull(deviation_cross) |>\n",
    "  sum(na.rm = TRUE) / nrow(df)"
   ]
  },
  {
   "cell_type": "markdown",
   "id": "ae9e4b6b",
   "metadata": {},
   "source": [
    "ただいまの共分散の算出では、最終的にデータの件数 $n$ によって割りました。 しかしRの標準的な偏差を求める関数`cov()`は $n -1$ で割る処理を行います。 この方法で求めれらる共分散は不偏共分散と呼ばれるものです。\n"
   ]
  },
  {
   "cell_type": "code",
   "execution_count": 10,
   "id": "62f7213d",
   "metadata": {
    "vscode": {
     "languageId": "r"
    }
   },
   "outputs": [],
   "source": [
    "#| label: くちばしの長さと体重の共分散\n",
    "cov(X, Y, use = \"complete.obs\")"
   ]
  },
  {
   "cell_type": "markdown",
   "id": "89415924",
   "metadata": {},
   "source": [
    "$n$ で割る共分散を知りたい場合は次のようにします。\n"
   ]
  },
  {
   "cell_type": "code",
   "execution_count": 11,
   "id": "53694b2d",
   "metadata": {
    "vscode": {
     "languageId": "r"
    }
   },
   "outputs": [],
   "source": [
    "cov(X, Y) * (nrow(df) - 1) / nrow(df)"
   ]
  },
  {
   "cell_type": "markdown",
   "id": "e0530ac0",
   "metadata": {},
   "source": [
    "共分散は、2つの変数の関係を表す指標です。共分散が正の値をとる場合は、2つの変数は正の相関があることを表します。共分散が負の値をとる場合は、2つの変数は負の相関があることを表します。共分散が0の場合は、2つの変数は相関がないことを表します。また、値の絶対値が大きいほど、2つの変数の関係が強いことを表します。ただし、共分散は、2つの変数の単位に依存するため、標準化による単位の統一や単位に依存しない相関係数を用いることが多いです。\n",
    "\n",
    "ペンギンデータの場合、くちばしの長さはmm、体重はkgで記録されています。そのため、同じmm単位で記録されたくちばしの長さとくちばしの太さの共分散と比較すると、共分散の値が大きくなってしまいます。そこで、くちばしの長さと体重を標準化して共分散を求めてみましょう。\n"
   ]
  },
  {
   "cell_type": "code",
   "execution_count": 12,
   "id": "59a6cf01",
   "metadata": {
    "vscode": {
     "languageId": "r"
    }
   },
   "outputs": [],
   "source": [
    "# 共通の単位で記録された2変数の共分散\n",
    "cov(penguins$bill_length_mm, penguins$bill_depth_mm, use = \"complete.obs\")"
   ]
  },
  {
   "cell_type": "code",
   "execution_count": 13,
   "id": "a7c57fd6",
   "metadata": {
    "vscode": {
     "languageId": "r"
    }
   },
   "outputs": [],
   "source": [
    "#| label: くちばしの長さと体重の標準化をおこなった共分散\n",
    "cov(scale(penguins$bill_length_mm), scale(penguins$body_mass_g), use = \"complete.obs\")"
   ]
  },
  {
   "cell_type": "code",
   "execution_count": 14,
   "id": "98d847ba",
   "metadata": {
    "vscode": {
     "languageId": "r"
    }
   },
   "outputs": [],
   "source": [
    "cov(scale(penguins$bill_length_mm), scale(penguins$bill_depth_mm), use = \"complete.obs\")"
   ]
  },
  {
   "cell_type": "markdown",
   "id": "4604184a",
   "metadata": {},
   "source": [
    "標準化された変数による共分散の値を比較することで、くちばしの長さと体重の関係がくちばしの長さとくちばしの太さの関係よりも強いことがわかります。\n",
    "\n",
    "共分散の単位依存の問題は、標準化によって解決できますが、共分散の絶対値が大きくなるという問題は解決できません。そこで、2変数の関係の大きさを一定の範囲に収めるために、相関係数を用います。\n",
    "\n",
    "### 相関係数 (Correlation coefficient)\n",
    "\n",
    "共分散の単位依存の性質は、共分散 $cov(x, y)$ を各変数の標準偏差 $\\sigma$ の積で割ることで解消できます。これを相関係数と呼びます。相関係数は次の式で定義されます。\n",
    "\n",
    "$$\n",
    "r_{xy} = \\frac{cov(x, y)}{\\sigma_x \\sigma_y}\n",
    "$$\n",
    "\n",
    "ペンギンデータのくちばしの長さと体重について、共分散はさきほど計算したので、標準偏差を求めて相関係数の計算をしてみましょう。\n"
   ]
  },
  {
   "cell_type": "code",
   "execution_count": 15,
   "id": "fd22ff81",
   "metadata": {
    "vscode": {
     "languageId": "r"
    }
   },
   "outputs": [],
   "source": [
    "#| label: くちばしの長さと体重の相関係数\n",
    "# 標準偏差の計算\n",
    "bill_length_sd <- sd(df$bill_length_mm, na.rm = TRUE)\n",
    "body_mass_sd <- sd(df$body_mass_g, na.rm = TRUE)\n",
    "\n",
    "# 相関係数の計算\n",
    "cov(df$bill_length_mm, df$body_mass_g, use = \"complete.obs\") / (bill_length_sd * body_mass_sd)"
   ]
  },
  {
   "cell_type": "markdown",
   "id": "a8259bac",
   "metadata": {},
   "source": [
    "相関係数はデータの測定単位や標準化の有無に依存しない、2つの変数の間の直線的な関係の強さを評価する指標となります。-1以上から1以下の値をとり、散布図にしたときに直線関係に近いもの、言い換えると変数の関係が強いほど、絶対値が1に近づきます。\n",
    "\n",
    "相関係数にはいくつかの種類があり、中でもピアソンの積率相関係数が最も頻繁に利用されます。\n"
   ]
  },
  {
   "cell_type": "code",
   "execution_count": 16,
   "id": "2d18614d",
   "metadata": {
    "vscode": {
     "languageId": "r"
    }
   },
   "outputs": [],
   "source": [
    "#| label: 体長と体重の相関係数\n",
    "# 体長と体重の相関係数\n",
    "cor(df$bill_length_mm, df$body_mass_g, use = \"complete.obs\")"
   ]
  },
  {
   "cell_type": "markdown",
   "id": "d21710bf",
   "metadata": {},
   "source": [
    "この値は正の値であるので、正の相関であることがわかります。一方で変数の関係の強さとしてはどの程度でしょうか。相関係数の判断基準として以下の目安が一般的に使われています。 0.59は「やや強い相関がある」と言えることがわかりました。\n"
   ]
  },
  {
   "cell_type": "code",
   "execution_count": null,
   "id": "98cdb058",
   "metadata": {
    "vscode": {
     "languageId": "r"
    }
   },
   "outputs": [],
   "source": [
    "#| label: 相関係数の目安\n",
    "#| eval: true\n",
    "#| echo: false\n",
    "tibble::tribble(\n",
    "  ~相関係数, ~相関の強さ,\n",
    "  \"\\u00b10.7以上\", \"とても強い\",\n",
    "  \"\\u00b10.4~0.7\", \"やや強い\",\n",
    "  \"\\u00b10.2~0.4\", \"弱い\",\n",
    "  \"\\u00b10.2以下\", \"ほとんどなし\")"
   ]
  },
  {
   "cell_type": "code",
   "execution_count": 18,
   "id": "d62e6914",
   "metadata": {
    "vscode": {
     "languageId": "r"
    }
   },
   "outputs": [],
   "source": [
    "#| label: くちばしの長さと体重の相関分析\n",
    "cor.test(df$bill_length_mm, df$body_mass_g)"
   ]
  },
  {
   "cell_type": "markdown",
   "id": "83388c80",
   "metadata": {},
   "source": [
    "相関係数は関係の強さを示す指標であって変数間の因果関係を示すものではありません。どんな変数間であろうと相関係数は必ず出る点も気にしておきましょう。2つの変数に対する関係として、片方の変数からもう片方の変数を説明することには回帰分析を実行する必要があります。\n",
    "\n",
    "<!-- \n",
    "外れ値に注意、2変数間の関係が直線的でないとき（アンスコムの例）\n",
    "\n",
    "因果関係との違い\n",
    "\n",
    "見せかけの相関\n",
    "\n",
    "「一人当たりのチョコレート消費量とノーベル賞受賞者数の相関」など\n",
    "-->\n",
    "\n",
    "#### 相関係数行列\n",
    "\n",
    "相関係数行列は、複数の変数間の相関係数をまとめて表現した行列です。Rでは、`cor()`関数を使用して、相関係数行列を求めることができます。\n"
   ]
  },
  {
   "cell_type": "code",
   "execution_count": 19,
   "id": "9f028d6d",
   "metadata": {
    "vscode": {
     "languageId": "r"
    }
   },
   "outputs": [],
   "source": [
    "cor(penguins[, c(\"bill_length_mm\", \"bill_depth_mm\", \"flipper_length_mm\", \"body_mass_g\")], use = \"complete.obs\")"
   ]
  },
  {
   "cell_type": "markdown",
   "id": "78c01c03",
   "metadata": {},
   "source": [
    "相関行列を可視化することで、複数の変数間の相関関係を直感的に理解することができます。Rでは、corrplotパッケージの`corrplot()`関数を使用して、相関係数行列を可視化することができます。\n"
   ]
  },
  {
   "cell_type": "code",
   "execution_count": 20,
   "id": "corrplot",
   "metadata": {
    "vscode": {
     "languageId": "r"
    }
   },
   "outputs": [],
   "source": [
    "#| eval: false\n",
    "#| echo: true\n",
    "#| label: corrplotパッケージのインストール\n",
    "install.packages(\"corrplot\")"
   ]
  },
  {
   "cell_type": "code",
   "execution_count": 21,
   "id": "d3c8da79",
   "metadata": {
    "vscode": {
     "languageId": "r"
    }
   },
   "outputs": [],
   "source": [
    "library(corrplot)\n",
    "corrplot(cor(penguins[, c(\"bill_length_mm\", \"bill_depth_mm\", \"flipper_length_mm\", \"body_mass_g\")], use = \"complete.obs\"))"
   ]
  },
  {
   "cell_type": "markdown",
   "id": "fdb2dcd1",
   "metadata": {},
   "source": [
    "出力される円の大きさとその色を比較することで、相関係数の値を直感的に理解することができます。ここでは円の大きさは、相関係数の絶対値の大きさを表します。円の色は、相関係数の符号を表します。青色は正の相関を、赤色は負の相関を表します。円の色の濃さは、相関係数の絶対値の大きさを表します。円の色の濃さが濃いほど相関係数の絶対値が大きいことを表します。\n"
   ]
  }
 ],
 "metadata": {
  "jupytext": {
   "formats": "ipynb,qmd",
   "text_representation": {
    "extension": ".qmd",
    "format_name": "quarto",
    "format_version": "1.0",
    "jupytext_version": "1.14.5"
   }
  },
  "kernelspec": {
   "display_name": "R",
   "language": "R",
   "name": "ir"
  },
  "language_info": {
   "codemirror_mode": "r",
   "file_extension": ".r",
   "mimetype": "text/x-r-source",
   "name": "R",
   "pygments_lexer": "r",
   "version": "4.3.2"
  }
 },
 "nbformat": 4,
 "nbformat_minor": 5
}
